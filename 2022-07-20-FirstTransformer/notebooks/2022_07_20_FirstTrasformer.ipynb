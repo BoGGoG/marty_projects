{
  "cells": [
    {
      "cell_type": "markdown",
      "metadata": {
        "id": "j77hUjNXm5ib"
      },
      "source": [
        "https://keras.io/examples/nlp/neural_machine_translation_with_transformer/"
      ]
    },
    {
      "cell_type": "code",
      "execution_count": 1,
      "metadata": {
        "colab": {
          "base_uri": "https://localhost:8080/"
        },
        "id": "6qEH2hbKAK5D",
        "outputId": "58f98cb1-161d-4a0a-96a1-c0e53c196f1f"
      },
      "outputs": [
        {
          "name": "stdout",
          "output_type": "stream",
          "text": [
            "Defaulting to user installation because normal site-packages is not writeable\n",
            "Requirement already satisfied: icecream in /home/boggog/.local/lib/python3.10/site-packages (2.1.2)\n",
            "Requirement already satisfied: more_itertools in /home/boggog/.local/lib/python3.10/site-packages (8.13.0)\n",
            "Requirement already satisfied: colorama>=0.3.9 in /home/boggog/.local/lib/python3.10/site-packages (from icecream) (0.4.4)\n",
            "Requirement already satisfied: pygments>=2.2.0 in /home/boggog/.local/lib/python3.10/site-packages (from icecream) (2.12.0)\n",
            "Requirement already satisfied: asttokens>=2.0.1 in /home/boggog/.local/lib/python3.10/site-packages (from icecream) (2.0.5)\n",
            "Requirement already satisfied: executing>=0.3.1 in /home/boggog/.local/lib/python3.10/site-packages (from icecream) (0.8.3)\n",
            "Requirement already satisfied: six in /usr/lib/python3.10/site-packages (from asttokens>=2.0.1->icecream) (1.16.0)\n",
            "Note: you may need to restart the kernel to use updated packages.\n"
          ]
        }
      ],
      "source": [
        "pip install icecream more_itertools"
      ]
    },
    {
      "cell_type": "code",
      "execution_count": 2,
      "metadata": {
        "colab": {
          "base_uri": "https://localhost:8080/"
        },
        "id": "NuKVH3YBBd6C",
        "outputId": "fdc451e1-0050-4d82-a82c-fc05c2ae40df"
      },
      "outputs": [],
      "source": [
        "# only needed for colab\n",
        "# from google.colab import drive\n",
        "# drive.mount('/content/drive')"
      ]
    },
    {
      "cell_type": "code",
      "execution_count": 3,
      "metadata": {
        "id": "xzulqDrkBhLc"
      },
      "outputs": [],
      "source": [
        "import os\n",
        "# os.chdir('/content/drive/MyDrive/SYMBA/2022-07-20-RNNAttention')\n",
        "os.chdir(\"..\")"
      ]
    },
    {
      "cell_type": "code",
      "execution_count": 4,
      "metadata": {
        "colab": {
          "base_uri": "https://localhost:8080/"
        },
        "id": "G5c0dUUGBr5W",
        "outputId": "a78f6b74-5f32-4fed-d3a6-a144e00342d4"
      },
      "outputs": [
        {
          "data": {
            "text/plain": [
              "['source', 'notebooks', 'dev', 'README.md', 'test']"
            ]
          },
          "execution_count": 4,
          "metadata": {},
          "output_type": "execute_result"
        }
      ],
      "source": [
        "os.listdir()"
      ]
    },
    {
      "cell_type": "code",
      "execution_count": 5,
      "metadata": {
        "id": "9A9Y1io1AKa6"
      },
      "outputs": [],
      "source": [
        "import sys\n",
        "import os\n",
        "from icecream import ic \n",
        "import csv\n",
        "import numpy as np\n",
        "import matplotlib.pyplot as plt\n",
        "from sklearn.model_selection import train_test_split\n",
        "\n",
        "from source.read_amplitudes import read_amplitudes, fix_operator_num_args, get_tree, fix_tree, fix_subscript, fix_subscripts, read_amplitudes_and_squares\n",
        "  "
      ]
    },
    {
      "cell_type": "code",
      "execution_count": 6,
      "metadata": {
        "id": "EDUHCTk_AKa8"
      },
      "outputs": [
        {
          "name": "stderr",
          "output_type": "stream",
          "text": [
            "2022-07-20 14:14:10.615621: I tensorflow/core/util/util.cc:169] oneDNN custom operations are on. You may see slightly different numerical results due to floating-point round-off errors from different computation orders. To turn them off, set the environment variable `TF_ENABLE_ONEDNN_OPTS=0`.\n",
            "2022-07-20 14:14:10.618316: W tensorflow/stream_executor/platform/default/dso_loader.cc:64] Could not load dynamic library 'libcudart.so.11.0'; dlerror: libcudart.so.11.0: cannot open shared object file: No such file or directory; LD_LIBRARY_PATH: /usr/local//lib:\n",
            "2022-07-20 14:14:10.618329: I tensorflow/stream_executor/cuda/cudart_stub.cc:29] Ignore above cudart dlerror if you do not have a GPU set up on your machine.\n"
          ]
        }
      ],
      "source": [
        "import pathlib\n",
        "import random\n",
        "import string\n",
        "import re\n",
        "import numpy as np\n",
        "import tensorflow as tf\n",
        "from tensorflow import keras\n",
        "from tensorflow.keras import layers\n",
        "from tensorflow.keras.layers import TextVectorization\n"
      ]
    },
    {
      "cell_type": "markdown",
      "metadata": {
        "id": "N-WbL192AKa8"
      },
      "source": [
        "# Reading in Data"
      ]
    },
    {
      "cell_type": "code",
      "execution_count": 7,
      "metadata": {
        "colab": {
          "base_uri": "https://localhost:8080/"
        },
        "id": "XhJwRNokAKa9",
        "outputId": "c3b7a3be-82a8-4f76-bc50-c8970b792f45"
      },
      "outputs": [
        {
          "data": {
            "text/plain": [
              "['source', 'notebooks', 'dev', 'README.md', 'test']"
            ]
          },
          "execution_count": 7,
          "metadata": {},
          "output_type": "execute_result"
        }
      ],
      "source": [
        "os.listdir()"
      ]
    },
    {
      "cell_type": "code",
      "execution_count": 8,
      "metadata": {
        "id": "GGzjopcfAKa9"
      },
      "outputs": [],
      "source": [
        "amplitudes_file = \"../data.nosync/QED_amplitudes_TreeLevel_UpTo3to3.txt\"\n",
        "sqamplitudes_file = \"../data.nosync/QED_sqamplitudes_TreeLevel_UpTo3to3.txt\""
      ]
    },
    {
      "cell_type": "code",
      "execution_count": 9,
      "metadata": {
        "id": "g8BWBW6FAKa-"
      },
      "outputs": [],
      "source": [
        "X = []\n",
        "with open(amplitudes_file, 'r') as f:\n",
        "    for line in f.readlines() :\n",
        "        line = line.split(\";\")\n",
        "        # have to remove new line character for some reason\n",
        "        line[-1] = line[-1].replace(\"\\n\", \"\")\n",
        "        # line = tf.strings.join(['[START]', line, '[END]'], separator=' ')\n",
        "        # X.append(['[START]'] + line + ['[END]'])\n",
        "        X.append(line)\n",
        "\n",
        "y = []\n",
        "with open(sqamplitudes_file, 'r') as f:\n",
        "    for line in f.readlines() :\n",
        "        line = line.split(\";\")\n",
        "        # have to remove new line character for some reason\n",
        "        line[-1] = line[-1].replace(\"\\n\", \"\")\n",
        "        # y.append(['[START]'] + line + ['[END]'])\n",
        "        y.append(line)"
      ]
    },
    {
      "cell_type": "code",
      "execution_count": 10,
      "metadata": {
        "id": "ONnK6W_ZAKa-"
      },
      "outputs": [],
      "source": [
        "X_train, X_test, y_train, y_test = train_test_split(\n",
        "    X, y, test_size=0.2, random_state=42\n",
        ")\n",
        "\n",
        "X_val, X_test, y_val, y_test = train_test_split(\n",
        "    X_test, y_test, test_size=0.5, random_state=42\n",
        ")"
      ]
    },
    {
      "cell_type": "code",
      "execution_count": 11,
      "metadata": {
        "colab": {
          "base_uri": "https://localhost:8080/"
        },
        "id": "WGlFIj0OAKa_",
        "outputId": "f7328c33-b7f7-4e32-a59f-038d8944df43"
      },
      "outputs": [
        {
          "data": {
            "text/plain": [
              "array(['Prod', '1/162', 'Prod', 'i', 'Prod', 'Pow', 'e', '4', 'Prod',\n",
              "       'Pow', 'Sum', 'Pow', 'm_s', '2', 'Sum', 's_23', 'Prod', '1/2',\n",
              "       'reg_prop', '-1', 'Prod', 'Pow', 'Sum', 'Pow', 'm_s', '2', 'Sum',\n",
              "       's_12', 's_13', 'Prod', '-1', 's_15', 's_23', 'Prod', '-1', 's_25',\n",
              "       'Prod', '-1', 's_35', 'Prod', '1/2', 'reg_prop', '-1', 'Prod',\n",
              "       'Pow', 'Sum', 's_15', 'Prod', '-1/2', 'reg_prop', '-1', 'Sum',\n",
              "       'Prod', 'p_1', 'alpha_33', 'Prod', 'p_1', 'alpha_12', 'Prod',\n",
              "       'gamma', 'alpha_33', 'alpha_47', 'alpha_11', 'Prod', 'gamma',\n",
              "       'alpha_28', 'alpha_4', 'alpha_41', 'Prod', 'A^(*)', 'i_5',\n",
              "       'alpha_12', '(p_5)', 'Prod', 'A^(*)', 'i_1', 'alpha_28', '(p_6)',\n",
              "       'Prod', 'd^(*)', 'i_2', 'alpha_4', '(p_1)_v', 'Prod', 'd', 'i_3',\n",
              "       'alpha_41', '(p_4)_v', 'Prod', 's', 'i_4', 'alpha_11', '(p_2)_u',\n",
              "       's^(*)', 'i_0', 'alpha_47', '(p_3)_v', 'Sum', 'Prod', '1/2',\n",
              "       'Prod', 'p_1', 'alpha_12', 'Prod', 'p_2', 'alpha_2', 'Prod',\n",
              "       'gamma', 'alpha_33', 'alpha_48', 'alpha_6', 'Prod', 'gamma',\n",
              "       'alpha_33', 'alpha_52', 'alpha_10', 'Prod', 'gamma', 'alpha_28',\n",
              "       'alpha_9', 'alpha_25', 'Prod', 'gamma', 'alpha_2', 'alpha_6',\n",
              "       'alpha_9', 'Prod', 'A^(*)', 'i_5', 'alpha_12', '(p_5)', 'Prod',\n",
              "       'A^(*)', 'i_1', 'alpha_28', '(p_6)', 'Prod', 'd^(*)', 'i_2',\n",
              "       'alpha_48', '(p_1)_v', 'Prod', 'd', 'i_3', 'alpha_25', '(p_4)_v',\n",
              "       'Prod', 's', 'i_4', 'alpha_10', '(p_2)_u', 's^(*)', 'i_0',\n",
              "       'alpha_52', '(p_3)_v', 'Prod', '1/2', 'Prod', 'p_1', 'alpha_12',\n",
              "       'Prod', 'p_3', 'alpha_2', 'Prod', 'gamma', 'alpha_33', 'alpha_49',\n",
              "       'alpha_44', 'Prod', 'gamma', 'alpha_33', 'alpha_30', 'alpha_50',\n",
              "       'Prod', 'gamma', 'alpha_28', 'alpha_38', 'alpha_37', 'Prod',\n",
              "       'gamma', 'alpha_2', 'alpha_44', 'alpha_38', 'Prod', 'A^(*)', 'i_5',\n",
              "       'alpha_12', '(p_5)', 'Prod', 'A^(*)', 'i_1', 'alpha_28', '(p_6)',\n",
              "       'Prod', 'd^(*)', 'i_2', 'alpha_49', '(p_1)_v', 'Prod', 'd', 'i_3',\n",
              "       'alpha_37', '(p_4)_v', 'Prod', 's', 'i_4', 'alpha_50', '(p_2)_u',\n",
              "       's^(*)', 'i_0', 'alpha_30', '(p_3)_v', 'Prod', '-1/2', 'Prod',\n",
              "       'p_1', 'alpha_33', 'Prod', 'p_5', 'alpha_34', 'Prod', 'gamma',\n",
              "       'alpha_33', 'alpha_14', 'alpha_51', 'Prod', 'gamma', 'alpha_34',\n",
              "       'alpha_32', 'alpha_63', 'Prod', 'gamma', 'alpha_12', 'alpha_26',\n",
              "       'alpha_32', 'Prod', 'gamma', 'alpha_28', 'alpha_63', 'alpha_53',\n",
              "       'Prod', 'A^(*)', 'i_5', 'alpha_12', '(p_5)', 'Prod', 'A^(*)',\n",
              "       'i_1', 'alpha_28', '(p_6)', 'Prod', 'd^(*)', 'i_2', 'alpha_26',\n",
              "       '(p_1)_v', 'Prod', 'd', 'i_3', 'alpha_53', '(p_4)_v', 'Prod', 's',\n",
              "       'i_4', 'alpha_51', '(p_2)_u', 's^(*)', 'i_0', 'alpha_14',\n",
              "       '(p_3)_v', 'Prod', '1/2', 'Prod', 's_15', 'Prod', 'gamma',\n",
              "       'alpha_33', 'alpha_0', 'alpha_40', 'Prod', 'gamma', 'alpha_33',\n",
              "       'alpha_15', 'alpha_42', 'Prod', 'gamma', 'alpha_12', 'alpha_57',\n",
              "       'alpha_0', 'Prod', 'gamma', 'alpha_28', 'alpha_40', 'alpha_8',\n",
              "       'Prod', 'A^(*)', 'i_5', 'alpha_12', '(p_5)', 'Prod', 'A^(*)',\n",
              "       'i_1', 'alpha_28', '(p_6)', 'Prod', 'd^(*)', 'i_2', 'alpha_57',\n",
              "       '(p_1)_v', 'Prod', 'd', 'i_3', 'alpha_8', '(p_4)_v', 'Prod', 's',\n",
              "       'i_4', 'alpha_42', '(p_2)_u', 's^(*)', 'i_0', 'alpha_15',\n",
              "       '(p_3)_v', 'Prod', '-1/2', 'Prod', 'p_1', 'alpha_12', 'Prod',\n",
              "       'p_5', 'alpha_34', 'Prod', 'gamma', 'alpha_33', 'alpha_62',\n",
              "       'alpha_60', 'Prod', 'gamma', 'alpha_33', 'alpha_35', 'alpha_17',\n",
              "       'Prod', 'gamma', 'alpha_34', 'alpha_59', 'alpha_62', 'Prod',\n",
              "       'gamma', 'alpha_28', 'alpha_60', 'alpha_58', 'Prod', 'A^(*)',\n",
              "       'i_5', 'alpha_12', '(p_5)', 'Prod', 'A^(*)', 'i_1', 'alpha_28',\n",
              "       '(p_6)', 'Prod', 'd^(*)', 'i_2', 'alpha_59', '(p_1)_v', 'Prod',\n",
              "       'd', 'i_3', 'alpha_58', '(p_4)_v', 'Prod', 's', 'i_4', 'alpha_17',\n",
              "       '(p_2)_u', 's^(*)', 'i_0', 'alpha_35', '(p_3)_v', 'Prod', '-1/4',\n",
              "       'Prod', 'p_2', 'alpha_2', 'Prod', 'p_5', 'alpha_34', 'Prod',\n",
              "       'gamma', 'alpha_33', 'alpha_54', 'alpha_31', 'Prod', 'gamma',\n",
              "       'alpha_33', 'alpha_46', 'alpha_61', 'Prod', 'gamma', 'alpha_34',\n",
              "       'alpha_5', 'alpha_54', 'Prod', 'gamma', 'alpha_12', 'alpha_68',\n",
              "       'alpha_5', 'Prod', 'gamma', 'alpha_28', 'alpha_18', 'alpha_24',\n",
              "       'Prod', 'gamma', 'alpha_2', 'alpha_31', 'alpha_18', 'Prod',\n",
              "       'A^(*)', 'i_5', 'alpha_12', '(p_5)', 'Prod', 'A^(*)', 'i_1',\n",
              "       'alpha_28', '(p_6)', 'Prod', 'd^(*)', 'i_2', 'alpha_68', '(p_1)_v',\n",
              "       'Prod', 'd', 'i_3', 'alpha_24', '(p_4)_v', 'Prod', 's', 'i_4',\n",
              "       'alpha_61', '(p_2)_u', 's^(*)', 'i_0', 'alpha_46', '(p_3)_v',\n",
              "       'Prod', '-1/4', 'Prod', 'p_3', 'alpha_2', 'Prod', 'p_5',\n",
              "       'alpha_34', 'Prod', 'gamma', 'alpha_33', 'alpha_55', 'alpha_13',\n",
              "       'Prod', 'gamma', 'alpha_33', 'alpha_21', 'alpha_45', 'Prod',\n",
              "       'gamma', 'alpha_34', 'alpha_23', 'alpha_55', 'Prod', 'gamma',\n",
              "       'alpha_12', 'alpha_36', 'alpha_23', 'Prod', 'gamma', 'alpha_28',\n",
              "       'alpha_3', 'alpha_19', 'Prod', 'gamma', 'alpha_2', 'alpha_13',\n",
              "       'alpha_3', 'Prod', 'A^(*)', 'i_5', 'alpha_12', '(p_5)', 'Prod',\n",
              "       'A^(*)', 'i_1', 'alpha_28', '(p_6)', 'Prod', 'd^(*)', 'i_2',\n",
              "       'alpha_36', '(p_1)_v', 'Prod', 'd', 'i_3', 'alpha_19', '(p_4)_v',\n",
              "       'Prod', 's', 'i_4', 'alpha_45', '(p_2)_u', 's^(*)', 'i_0',\n",
              "       'alpha_21', '(p_3)_v', 'Prod', '-1/2', 'Prod', 'p_1', 'alpha_12',\n",
              "       'Prod', 'p_5', 'alpha_2', 'Prod', 'gamma', 'alpha_33', 'alpha_65',\n",
              "       'alpha_56', 'Prod', 'gamma', 'alpha_33', 'alpha_1', 'alpha_39',\n",
              "       'Prod', 'gamma', 'alpha_28', 'alpha_20', 'alpha_66', 'Prod',\n",
              "       'gamma', 'alpha_2', 'alpha_56', 'alpha_20', 'Prod', 'A^(*)', 'i_5',\n",
              "       'alpha_12', '(p_5)', 'Prod', 'A^(*)', 'i_1', 'alpha_28', '(p_6)',\n",
              "       'Prod', 'd^(*)', 'i_2', 'alpha_65', '(p_1)_v', 'Prod', 'd', 'i_3',\n",
              "       'alpha_66', '(p_4)_v', 'Prod', 's', 'i_4', 'alpha_39', '(p_2)_u',\n",
              "       's^(*)', 'i_0', 'alpha_1', '(p_3)_v', 'Prod', '1/4', 'Prod', 'p_5',\n",
              "       'alpha_34', 'Prod', 'p_5', 'alpha_2', 'Prod', 'gamma', 'alpha_33',\n",
              "       'alpha_29', 'alpha_27', 'Prod', 'gamma', 'alpha_33', 'alpha_43',\n",
              "       'alpha_22', 'Prod', 'gamma', 'alpha_34', 'alpha_7', 'alpha_29',\n",
              "       'Prod', 'gamma', 'alpha_12', 'alpha_64', 'alpha_7', 'Prod',\n",
              "       'gamma', 'alpha_28', 'alpha_67', 'alpha_16', 'Prod', 'gamma',\n",
              "       'alpha_2', 'alpha_27', 'alpha_67', 'Prod', 'A^(*)', 'i_5',\n",
              "       'alpha_12', '(p_5)', 'Prod', 'A^(*)', 'i_1', 'alpha_28', '(p_6)',\n",
              "       'Prod', 'd^(*)', 'i_2', 'alpha_64', '(p_1)_v', 'Prod', 'd', 'i_3',\n",
              "       'alpha_16', '(p_4)_v', 'Prod', 's', 'i_4', 'alpha_22', '(p_2)_u',\n",
              "       's^(*)', 'i_0', 'alpha_43', '(p_3)_v'], dtype='<U8')"
            ]
          },
          "execution_count": 11,
          "metadata": {},
          "output_type": "execute_result"
        }
      ],
      "source": [
        "np.array(X_train[0])"
      ]
    },
    {
      "cell_type": "code",
      "execution_count": 12,
      "metadata": {
        "colab": {
          "base_uri": "https://localhost:8080/",
          "height": 282
        },
        "id": "ACcZpcWYAKa_",
        "outputId": "21553f3b-7eec-4da6-d729-884bb0ec5555"
      },
      "outputs": [
        {
          "data": {
            "text/plain": [
              "[<matplotlib.lines.Line2D at 0x7f96dcdc1ff0>]"
            ]
          },
          "execution_count": 12,
          "metadata": {},
          "output_type": "execute_result"
        },
        {
          "data": {
            "image/png": "[encoded data removed]",
            "text/plain": [
              "<Figure size 432x288 with 1 Axes>"
            ]
          },
          "metadata": {
            "needs_background": "light"
          },
          "output_type": "display_data"
        }
      ],
      "source": [
        "plt.plot([len(x) for x in X_train])"
      ]
    },
    {
      "cell_type": "code",
      "execution_count": 13,
      "metadata": {},
      "outputs": [],
      "source": [
        "vocab_size = 400\n",
        "sequence_length = 250\n",
        "batch_size = 16"
      ]
    },
    {
      "cell_type": "code",
      "execution_count": 14,
      "metadata": {
        "colab": {
          "base_uri": "https://localhost:8080/"
        },
        "id": "5RpEx9LqAKa_",
        "outputId": "30833308-6add-4661-9c8d-0d69835638a8"
      },
      "outputs": [
        {
          "name": "stderr",
          "output_type": "stream",
          "text": [
            "ic| len(X_train_idx_okay): 19266\n",
            "ic| len(X_test_idx_okay): 2438\n"
          ]
        }
      ],
      "source": [
        "X_train_idx_okay = np.where([len(x) < sequence_length for x in X_train])[0]\n",
        "X_val_idx_okay = np.where([len(x) < sequence_length for x in X_val])[0]\n",
        "X_test_idx_okay = np.where([len(x) < sequence_length for x in X_test])[0]\n",
        "ic(len(X_train_idx_okay));\n",
        "ic(len(X_test_idx_okay));"
      ]
    },
    {
      "cell_type": "code",
      "execution_count": 15,
      "metadata": {
        "id": "cUOZJ8QSAKbA"
      },
      "outputs": [],
      "source": [
        "X_train_short = [X_train[i] for i in X_train_idx_okay]\n",
        "y_train_short = [y_train[i] for i in X_train_idx_okay]\n",
        "\n",
        "X_val_short = [X_val[i] for i in X_val_idx_okay]\n",
        "y_val_short = [y_val[i] for i in X_val_idx_okay]\n",
        "\n",
        "X_test_short = [X_test[i] for i in X_test_idx_okay]\n",
        "y_test_short = [y_test[i] for i in X_test_idx_okay]"
      ]
    },
    {
      "cell_type": "code",
      "execution_count": 16,
      "metadata": {
        "id": "K5ZGOW8MpcDA"
      },
      "outputs": [],
      "source": [
        "X_train_text = [\" \".join(x) for x in X_train_short]\n",
        "y_train_text = [\" \".join(yy) for yy in y_train_short]\n",
        "\n",
        "X_test_text = [\" \".join(x) for x in X_test_short]\n",
        "y_test_text = [\" \".join(yy) for yy in y_test_short]\n",
        "\n",
        "X_val_text = [\" \".join(x) for x in X_val_short]\n",
        "y_val_text = [\" \".join(yy) for yy in y_val_short]"
      ]
    },
    {
      "cell_type": "markdown",
      "metadata": {},
      "source": [
        "# Vectorization"
      ]
    },
    {
      "cell_type": "code",
      "execution_count": 17,
      "metadata": {},
      "outputs": [],
      "source": [
        "def custom_standardization(input_string):\n",
        "    return input_string"
      ]
    },
    {
      "cell_type": "code",
      "execution_count": 18,
      "metadata": {},
      "outputs": [
        {
          "name": "stderr",
          "output_type": "stream",
          "text": [
            "2022-07-20 14:14:17.562743: I tensorflow/stream_executor/cuda/cuda_gpu_executor.cc:975] successful NUMA node read from SysFS had negative value (-1), but there must be at least one NUMA node, so returning NUMA node zero\n",
            "2022-07-20 14:14:17.562909: W tensorflow/stream_executor/platform/default/dso_loader.cc:64] Could not load dynamic library 'libcudart.so.11.0'; dlerror: libcudart.so.11.0: cannot open shared object file: No such file or directory; LD_LIBRARY_PATH: /usr/local//lib:\n",
            "2022-07-20 14:14:17.563125: W tensorflow/stream_executor/platform/default/dso_loader.cc:64] Could not load dynamic library 'libcublas.so.11'; dlerror: libcublas.so.11: cannot open shared object file: No such file or directory; LD_LIBRARY_PATH: /usr/local//lib:\n",
            "2022-07-20 14:14:17.563299: W tensorflow/stream_executor/platform/default/dso_loader.cc:64] Could not load dynamic library 'libcublasLt.so.11'; dlerror: libcublasLt.so.11: cannot open shared object file: No such file or directory; LD_LIBRARY_PATH: /usr/local//lib:\n",
            "2022-07-20 14:14:17.563335: W tensorflow/stream_executor/platform/default/dso_loader.cc:64] Could not load dynamic library 'libcufft.so.10'; dlerror: libcufft.so.10: cannot open shared object file: No such file or directory; LD_LIBRARY_PATH: /usr/local//lib:\n",
            "2022-07-20 14:14:17.563369: W tensorflow/stream_executor/platform/default/dso_loader.cc:64] Could not load dynamic library 'libcurand.so.10'; dlerror: libcurand.so.10: cannot open shared object file: No such file or directory; LD_LIBRARY_PATH: /usr/local//lib:\n",
            "2022-07-20 14:14:17.563523: W tensorflow/stream_executor/platform/default/dso_loader.cc:64] Could not load dynamic library 'libcusolver.so.11'; dlerror: libcusolver.so.11: cannot open shared object file: No such file or directory; LD_LIBRARY_PATH: /usr/local//lib:\n",
            "2022-07-20 14:14:17.563560: W tensorflow/stream_executor/platform/default/dso_loader.cc:64] Could not load dynamic library 'libcusparse.so.11'; dlerror: libcusparse.so.11: cannot open shared object file: No such file or directory; LD_LIBRARY_PATH: /usr/local//lib:\n",
            "2022-07-20 14:14:17.563717: W tensorflow/stream_executor/platform/default/dso_loader.cc:64] Could not load dynamic library 'libcudnn.so.8'; dlerror: libcudnn.so.8: cannot open shared object file: No such file or directory; LD_LIBRARY_PATH: /usr/local//lib:\n",
            "2022-07-20 14:14:17.563722: W tensorflow/core/common_runtime/gpu/gpu_device.cc:1850] Cannot dlopen some GPU libraries. Please make sure the missing libraries mentioned above are installed properly if you would like to use GPU. Follow the guide at https://www.tensorflow.org/install/gpu for how to download and setup the required libraries for your platform.\n",
            "Skipping registering GPU devices...\n",
            "2022-07-20 14:14:17.564286: I tensorflow/core/platform/cpu_feature_guard.cc:193] This TensorFlow binary is optimized with oneAPI Deep Neural Network Library (oneDNN) to use the following CPU instructions in performance-critical operations:  AVX2 AVX_VNNI FMA\n",
            "To enable them in other operations, rebuild TensorFlow with the appropriate compiler flags.\n"
          ]
        }
      ],
      "source": [
        "X_vectorization = TextVectorization(\n",
        "    max_tokens=vocab_size,\n",
        "    output_mode=\"int\",\n",
        "    output_sequence_length=sequence_length,\n",
        "    standardize=None,\n",
        ")\n",
        "\n",
        "y_vectorization = TextVectorization(\n",
        "    max_tokens=vocab_size,\n",
        "    output_mode=\"int\",\n",
        "    output_sequence_length=sequence_length+1,\n",
        "    standardize=None,\n",
        ")"
      ]
    },
    {
      "cell_type": "code",
      "execution_count": 19,
      "metadata": {},
      "outputs": [],
      "source": [
        "X_vectorization.adapt(X_train_text)\n",
        "y_vectorization.adapt(y_train_text)"
      ]
    },
    {
      "cell_type": "code",
      "execution_count": 20,
      "metadata": {},
      "outputs": [
        {
          "data": {
            "text/plain": [
              "<tf.Tensor: shape=(250,), dtype=int64, numpy=\n",
              "array([  2, 144,   2,  51,   2,   6, 107,  74,   2,   6,  52,  74,   2,\n",
              "         6,   4,   6,  92,   7,   4,   2,   8,  53,   2,  76,  49,   2,\n",
              "        76,  80,   2,  76,  75,   2,  76,  77,   2,   8,  79,   2, 104,\n",
              "        14,   5,   2,   6,   4,   6,  92,   7,   4,  53,   2,   8,  14,\n",
              "         5,   2,   6,   4,   6,  92,   7,   4,  53,   2,   5,  49,   2,\n",
              "         5,  75,   2,   8,  14,   5,   4,   2,  84,  35,   2,   3,  27,\n",
              "        34,  28,   2,   3,  27,  19,  41,   2,   3,  32,  29,  26,   2,\n",
              "         3,  32,  21,  37,   2,   3,  35,  41,  21,   2,  67,  11,  28,\n",
              "        38,   2,  66,  12,  34,  45,   2,  66,   9,  19,  42,   2,  67,\n",
              "        15,  37,  47,   2,  69,  10,  26,  54,  68,  13,  29,  78,   4,\n",
              "         2,  83,  35,   2,   3,  27,  40,  23,   2,   3,  27,  18,  22,\n",
              "         2,   3,  32,  20,  16,   2,   3,  32,  36,  30,   2,   3,  35,\n",
              "        22,  36,   2,  67,  11,  23,  38,   2,  66,  12,  40,  45,   2,\n",
              "        66,   9,  18,  42,   2,  67,  15,  30,  47,   2,  69,  10,  16,\n",
              "        54,  68,  13,  20,  78,   2,  93,   2,  82,  27,   2,   3,  27,\n",
              "        31,  25,   2,   3,  32,  24,  33,   2,   3,  32,  39,  17,   2,\n",
              "        67,  11,  25,  38,   2,  66,  12,  31,  45,   2,  66,   9,  39,\n",
              "        42,   2,  67,  15,  17,  47,   2,  69,  10,  33,  54,  68,  13,\n",
              "        24,  78,   0,   0,   0,   0,   0,   0,   0,   0,   0,   0,   0,\n",
              "         0,   0,   0])>"
            ]
          },
          "execution_count": 20,
          "metadata": {},
          "output_type": "execute_result"
        }
      ],
      "source": [
        "X_vectorization(X_train_text[0])"
      ]
    },
    {
      "cell_type": "code",
      "execution_count": 21,
      "metadata": {},
      "outputs": [],
      "source": [
        "def format_dataset(X, y):\n",
        "    X_vec = X_vectorization(X)\n",
        "    y_vec = y_vectorization(y)\n",
        "    return (\n",
        "        {\n",
        "            \"encoder_inputs\": X_vec,\n",
        "            \"decoder_inputs\": y_vec[:, :-1],\n",
        "        },\n",
        "        y_vec[:, 1:],\n",
        "    )\n",
        "\n",
        "\n",
        "def make_dataset(X_text, y_text):\n",
        "    dataset = tf.data.Dataset.from_tensor_slices((X_text, y_text))\n",
        "    dataset = dataset.batch(batch_size)\n",
        "    dataset = dataset.map(format_dataset)\n",
        "    return dataset.shuffle(2048).prefetch(16).cache()\n",
        "\n",
        "\n",
        "train_ds = make_dataset(X_train_text, y_train_text)\n",
        "val_ds = make_dataset(X_val_text, y_val_text)\n",
        "test_ds = make_dataset(X_test_text, y_test_text)\n"
      ]
    },
    {
      "cell_type": "code",
      "execution_count": 22,
      "metadata": {},
      "outputs": [
        {
          "name": "stdout",
          "output_type": "stream",
          "text": [
            "inputs[\"encoder_inputs\"].shape: (16, 250)\n",
            "inputs[\"decoder_inputs\"].shape: (16, 250)\n",
            "targets.shape: (16, 250)\n"
          ]
        },
        {
          "name": "stderr",
          "output_type": "stream",
          "text": [
            "2022-07-20 14:14:21.315141: W tensorflow/core/kernels/data/cache_dataset_ops.cc:856] The calling iterator did not fully read the dataset being cached. In order to avoid unexpected truncation of the dataset, the partially cached contents of the dataset  will be discarded. This can happen if you have an input pipeline similar to `dataset.cache().take(k).repeat()`. You should use `dataset.take(k).cache().repeat()` instead.\n"
          ]
        }
      ],
      "source": [
        "for inputs, targets in train_ds.take(1):\n",
        "    print(f'inputs[\"encoder_inputs\"].shape: {inputs[\"encoder_inputs\"].shape}')\n",
        "    print(f'inputs[\"decoder_inputs\"].shape: {inputs[\"decoder_inputs\"].shape}')\n",
        "    print(f\"targets.shape: {targets.shape}\")\n"
      ]
    },
    {
      "cell_type": "code",
      "execution_count": 26,
      "metadata": {},
      "outputs": [
        {
          "name": "stdout",
          "output_type": "stream",
          "text": [
            "{'encoder_inputs': <tf.Tensor: shape=(16, 250), dtype=int64, numpy=\n",
            "array([[  2, 141,   2, ...,   0,   0,   0],\n",
            "       [  2, 127,   2, ...,   0,   0,   0],\n",
            "       [  2, 141,   2, ...,   0,   0,   0],\n",
            "       ...,\n",
            "       [  2, 114,   2, ...,   0,   0,   0],\n",
            "       [  2, 126,   2, ...,   0,   0,   0],\n",
            "       [  2, 133,   2, ...,   0,   0,   0]])>, 'decoder_inputs': <tf.Tensor: shape=(16, 250), dtype=int64, numpy=\n",
            "array([[  5,   2, 128, ...,   2,   6,  18],\n",
            "       [  5,   2,  69, ...,   3,   5,   3],\n",
            "       [  5,   2,  84, ...,   2,  13,  11],\n",
            "       ...,\n",
            "       [  5,   2,  78, ...,  48,   3,   5],\n",
            "       [  5,   2,  89, ...,   6,   2,   3],\n",
            "       [  5,   2,  92, ...,   2,  13,  17]])>}\n",
            "tf.Tensor(\n",
            "[[  2 128   2 ...   6  18   2]\n",
            " [  2  69   2 ...   5   3  22]\n",
            " [  2  84   2 ...  13  11   2]\n",
            " ...\n",
            " [  2  78   2 ...   3   5   3]\n",
            " [  2  89   2 ...   2   3   5]\n",
            " [  2  92   2 ...  13  17  48]], shape=(16, 250), dtype=int64)\n"
          ]
        },
        {
          "name": "stderr",
          "output_type": "stream",
          "text": [
            "2022-07-20 14:15:16.034537: W tensorflow/core/kernels/data/cache_dataset_ops.cc:856] The calling iterator did not fully read the dataset being cached. In order to avoid unexpected truncation of the dataset, the partially cached contents of the dataset  will be discarded. This can happen if you have an input pipeline similar to `dataset.cache().take(k).repeat()`. You should use `dataset.take(k).cache().repeat()` instead.\n"
          ]
        }
      ],
      "source": [
        "for inputs, targets in train_ds.take(1):\n",
        "    print(inputs)\n",
        "    print(targets)"
      ]
    },
    {
      "cell_type": "code",
      "execution_count": 23,
      "metadata": {},
      "outputs": [],
      "source": [
        "class TransformerEncoder(layers.Layer):\n",
        "    def __init__(self, embed_dim, dense_dim, num_heads, **kwargs):\n",
        "        super(TransformerEncoder, self).__init__(**kwargs)\n",
        "        self.embed_dim = embed_dim\n",
        "        self.dense_dim = dense_dim\n",
        "        self.num_heads = num_heads\n",
        "        self.attention = layers.MultiHeadAttention(\n",
        "            num_heads=num_heads, key_dim=embed_dim\n",
        "        )\n",
        "        self.dense_proj = keras.Sequential(\n",
        "            [\n",
        "                layers.Dense(dense_dim, activation=\"relu\"),\n",
        "                layers.Dense(embed_dim),\n",
        "            ]\n",
        "        )\n",
        "        self.layernorm_1 = layers.LayerNormalization()\n",
        "        self.layernorm_2 = layers.LayerNormalization()\n",
        "        self.supports_masking = True\n",
        "\n",
        "    def call(self, inputs, mask=None):\n",
        "        if mask is not None:\n",
        "            padding_mask = tf.cast(mask[:, tf.newaxis, tf.newaxis, :], dtype=\"int32\")\n",
        "        attention_output = self.attention(\n",
        "            query=inputs, value=inputs, key=inputs, attention_mask=padding_mask\n",
        "        )\n",
        "        proj_input = self.layernorm_1(inputs + attention_output)\n",
        "        proj_output = self.dense_proj(proj_input)\n",
        "        return self.layernorm_2(proj_input + proj_output)\n",
        "\n",
        "\n",
        "class PositionalEmbedding(layers.Layer):\n",
        "    def __init__(self, sequence_length, vocab_size, embed_dim, **kwargs):\n",
        "        super(PositionalEmbedding, self).__init__(**kwargs)\n",
        "        self.token_embeddings = layers.Embedding(\n",
        "            input_dim=vocab_size, output_dim=embed_dim\n",
        "        )\n",
        "        self.position_embeddings = layers.Embedding(\n",
        "            input_dim=sequence_length, output_dim=embed_dim\n",
        "        )\n",
        "        self.sequence_length = sequence_length\n",
        "        self.vocab_size = vocab_size\n",
        "        self.embed_dim = embed_dim\n",
        "\n",
        "    def call(self, inputs):\n",
        "        length = tf.shape(inputs)[-1]\n",
        "        positions = tf.range(start=0, limit=length, delta=1)\n",
        "        embedded_tokens = self.token_embeddings(inputs)\n",
        "        embedded_positions = self.position_embeddings(positions)\n",
        "        return embedded_tokens + embedded_positions\n",
        "\n",
        "    def compute_mask(self, inputs, mask=None):\n",
        "        return tf.math.not_equal(inputs, 0)\n",
        "\n",
        "\n",
        "class TransformerDecoder(layers.Layer):\n",
        "    def __init__(self, embed_dim, latent_dim, num_heads, **kwargs):\n",
        "        super(TransformerDecoder, self).__init__(**kwargs)\n",
        "        self.embed_dim = embed_dim\n",
        "        self.latent_dim = latent_dim\n",
        "        self.num_heads = num_heads\n",
        "        self.attention_1 = layers.MultiHeadAttention(\n",
        "            num_heads=num_heads, key_dim=embed_dim\n",
        "        )\n",
        "        self.attention_2 = layers.MultiHeadAttention(\n",
        "            num_heads=num_heads, key_dim=embed_dim\n",
        "        )\n",
        "        self.dense_proj = keras.Sequential(\n",
        "            [\n",
        "                layers.Dense(latent_dim, activation=\"relu\"),\n",
        "                layers.Dense(embed_dim),\n",
        "            ]\n",
        "        )\n",
        "        self.layernorm_1 = layers.LayerNormalization()\n",
        "        self.layernorm_2 = layers.LayerNormalization()\n",
        "        self.layernorm_3 = layers.LayerNormalization()\n",
        "        self.supports_masking = True\n",
        "\n",
        "    def call(self, inputs, encoder_outputs, mask=None):\n",
        "        causal_mask = self.get_causal_attention_mask(inputs)\n",
        "        if mask is not None:\n",
        "            padding_mask = tf.cast(mask[:, tf.newaxis, :], dtype=\"int32\")\n",
        "            padding_mask = tf.minimum(padding_mask, causal_mask)\n",
        "\n",
        "        attention_output_1 = self.attention_1(\n",
        "            query=inputs, value=inputs, key=inputs, attention_mask=causal_mask\n",
        "        )\n",
        "        out_1 = self.layernorm_1(inputs + attention_output_1)\n",
        "\n",
        "        attention_output_2 = self.attention_2(\n",
        "            query=out_1,\n",
        "            value=encoder_outputs,\n",
        "            key=encoder_outputs,\n",
        "            attention_mask=padding_mask,\n",
        "        )\n",
        "        out_2 = self.layernorm_2(out_1 + attention_output_2)\n",
        "\n",
        "        proj_output = self.dense_proj(out_2)\n",
        "        return self.layernorm_3(out_2 + proj_output)\n",
        "\n",
        "    def get_causal_attention_mask(self, inputs):\n",
        "        input_shape = tf.shape(inputs)\n",
        "        batch_size, sequence_length = input_shape[0], input_shape[1]\n",
        "        i = tf.range(sequence_length)[:, tf.newaxis]\n",
        "        j = tf.range(sequence_length)\n",
        "        mask = tf.cast(i >= j, dtype=\"int32\")\n",
        "        mask = tf.reshape(mask, (1, input_shape[1], input_shape[1]))\n",
        "        mult = tf.concat(\n",
        "            [tf.expand_dims(batch_size, -1), tf.constant([1, 1], dtype=tf.int32)],\n",
        "            axis=0,\n",
        "        )\n",
        "        return tf.tile(mask, mult)\n"
      ]
    },
    {
      "cell_type": "code",
      "execution_count": 24,
      "metadata": {},
      "outputs": [],
      "source": [
        "embed_dim = 256\n",
        "latent_dim = 512\n",
        "num_heads = 6\n",
        "\n",
        "encoder_inputs = keras.Input(shape=(None,), dtype=\"int64\", name=\"encoder_inputs\")\n",
        "x = PositionalEmbedding(sequence_length, vocab_size, embed_dim)(encoder_inputs)\n",
        "encoder_outputs = TransformerEncoder(embed_dim, latent_dim, num_heads)(x)\n",
        "encoder = keras.Model(encoder_inputs, encoder_outputs)\n",
        "\n",
        "decoder_inputs = keras.Input(shape=(None,), dtype=\"int64\", name=\"decoder_inputs\")\n",
        "encoded_seq_inputs = keras.Input(shape=(None, embed_dim), name=\"decoder_state_inputs\")\n",
        "x = PositionalEmbedding(sequence_length, vocab_size, embed_dim)(decoder_inputs)\n",
        "x = TransformerDecoder(embed_dim, latent_dim, num_heads)(x, encoded_seq_inputs)\n",
        "x = layers.Dropout(0.5)(x)\n",
        "decoder_outputs = layers.Dense(vocab_size, activation=\"softmax\")(x)\n",
        "decoder = keras.Model([decoder_inputs, encoded_seq_inputs], decoder_outputs)\n",
        "\n",
        "decoder_outputs = decoder([decoder_inputs, encoder_outputs])\n",
        "transformer = keras.Model(\n",
        "    [encoder_inputs, decoder_inputs], decoder_outputs, name=\"transformer\"\n",
        ")\n"
      ]
    },
    {
      "cell_type": "code",
      "execution_count": 25,
      "metadata": {},
      "outputs": [
        {
          "name": "stdout",
          "output_type": "stream",
          "text": [
            "Model: \"transformer\"\n",
            "__________________________________________________________________________________________________\n",
            " Layer (type)                   Output Shape         Param #     Connected to                     \n",
            "==================================================================================================\n",
            " encoder_inputs (InputLayer)    [(None, None)]       0           []                               \n",
            "                                                                                                  \n",
            " positional_embedding (Position  (None, None, 256)   166400      ['encoder_inputs[0][0]']         \n",
            " alEmbedding)                                                                                     \n",
            "                                                                                                  \n",
            " decoder_inputs (InputLayer)    [(None, None)]       0           []                               \n",
            "                                                                                                  \n",
            " transformer_encoder (Transform  (None, None, 256)   1841664     ['positional_embedding[0][0]']   \n",
            " erEncoder)                                                                                       \n",
            "                                                                                                  \n",
            " model_1 (Functional)           (None, None, 400)    3689104     ['decoder_inputs[0][0]',         \n",
            "                                                                  'transformer_encoder[0][0]']    \n",
            "                                                                                                  \n",
            "==================================================================================================\n",
            "Total params: 5,697,168\n",
            "Trainable params: 5,697,168\n",
            "Non-trainable params: 0\n",
            "__________________________________________________________________________________________________\n",
            "  33/1205 [..............................] - ETA: 8:27 - loss: 3.6498 - accuracy: 0.2706"
          ]
        },
        {
          "ename": "KeyboardInterrupt",
          "evalue": "",
          "output_type": "error",
          "traceback": [
            "\u001b[0;31m---------------------------------------------------------------------------\u001b[0m",
            "\u001b[0;31mKeyboardInterrupt\u001b[0m                         Traceback (most recent call last)",
            "\u001b[1;32m/home/boggog/Documents/marty_projects/2022-07-20-FirstTransformer/notebooks/2022_07_20_FirstTrasformer.ipynb Cell 28\u001b[0m in \u001b[0;36m<cell line: 7>\u001b[0;34m()\u001b[0m\n\u001b[1;32m      <a href='vscode-notebook-cell:/home/boggog/Documents/marty_projects/2022-07-20-FirstTransformer/notebooks/2022_07_20_FirstTrasformer.ipynb#ch0000029?line=2'>3</a>\u001b[0m transformer\u001b[39m.\u001b[39msummary()\n\u001b[1;32m      <a href='vscode-notebook-cell:/home/boggog/Documents/marty_projects/2022-07-20-FirstTransformer/notebooks/2022_07_20_FirstTrasformer.ipynb#ch0000029?line=3'>4</a>\u001b[0m transformer\u001b[39m.\u001b[39mcompile(\n\u001b[1;32m      <a href='vscode-notebook-cell:/home/boggog/Documents/marty_projects/2022-07-20-FirstTransformer/notebooks/2022_07_20_FirstTrasformer.ipynb#ch0000029?line=4'>5</a>\u001b[0m     \u001b[39m\"\u001b[39m\u001b[39mrmsprop\u001b[39m\u001b[39m\"\u001b[39m, loss\u001b[39m=\u001b[39m\u001b[39m\"\u001b[39m\u001b[39msparse_categorical_crossentropy\u001b[39m\u001b[39m\"\u001b[39m, metrics\u001b[39m=\u001b[39m[\u001b[39m\"\u001b[39m\u001b[39maccuracy\u001b[39m\u001b[39m\"\u001b[39m]\n\u001b[1;32m      <a href='vscode-notebook-cell:/home/boggog/Documents/marty_projects/2022-07-20-FirstTransformer/notebooks/2022_07_20_FirstTrasformer.ipynb#ch0000029?line=5'>6</a>\u001b[0m )\n\u001b[0;32m----> <a href='vscode-notebook-cell:/home/boggog/Documents/marty_projects/2022-07-20-FirstTransformer/notebooks/2022_07_20_FirstTrasformer.ipynb#ch0000029?line=6'>7</a>\u001b[0m transformer\u001b[39m.\u001b[39;49mfit(train_ds, epochs\u001b[39m=\u001b[39;49mepochs, validation_data\u001b[39m=\u001b[39;49mval_ds)\n",
            "File \u001b[0;32m~/.local/lib/python3.10/site-packages/keras/utils/traceback_utils.py:64\u001b[0m, in \u001b[0;36mfilter_traceback.<locals>.error_handler\u001b[0;34m(*args, **kwargs)\u001b[0m\n\u001b[1;32m     62\u001b[0m filtered_tb \u001b[39m=\u001b[39m \u001b[39mNone\u001b[39;00m\n\u001b[1;32m     63\u001b[0m \u001b[39mtry\u001b[39;00m:\n\u001b[0;32m---> 64\u001b[0m   \u001b[39mreturn\u001b[39;00m fn(\u001b[39m*\u001b[39;49margs, \u001b[39m*\u001b[39;49m\u001b[39m*\u001b[39;49mkwargs)\n\u001b[1;32m     65\u001b[0m \u001b[39mexcept\u001b[39;00m \u001b[39mException\u001b[39;00m \u001b[39mas\u001b[39;00m e:  \u001b[39m# pylint: disable=broad-except\u001b[39;00m\n\u001b[1;32m     66\u001b[0m   filtered_tb \u001b[39m=\u001b[39m _process_traceback_frames(e\u001b[39m.\u001b[39m__traceback__)\n",
            "File \u001b[0;32m~/.local/lib/python3.10/site-packages/keras/engine/training.py:1409\u001b[0m, in \u001b[0;36mModel.fit\u001b[0;34m(self, x, y, batch_size, epochs, verbose, callbacks, validation_split, validation_data, shuffle, class_weight, sample_weight, initial_epoch, steps_per_epoch, validation_steps, validation_batch_size, validation_freq, max_queue_size, workers, use_multiprocessing)\u001b[0m\n\u001b[1;32m   1402\u001b[0m \u001b[39mwith\u001b[39;00m tf\u001b[39m.\u001b[39mprofiler\u001b[39m.\u001b[39mexperimental\u001b[39m.\u001b[39mTrace(\n\u001b[1;32m   1403\u001b[0m     \u001b[39m'\u001b[39m\u001b[39mtrain\u001b[39m\u001b[39m'\u001b[39m,\n\u001b[1;32m   1404\u001b[0m     epoch_num\u001b[39m=\u001b[39mepoch,\n\u001b[1;32m   1405\u001b[0m     step_num\u001b[39m=\u001b[39mstep,\n\u001b[1;32m   1406\u001b[0m     batch_size\u001b[39m=\u001b[39mbatch_size,\n\u001b[1;32m   1407\u001b[0m     _r\u001b[39m=\u001b[39m\u001b[39m1\u001b[39m):\n\u001b[1;32m   1408\u001b[0m   callbacks\u001b[39m.\u001b[39mon_train_batch_begin(step)\n\u001b[0;32m-> 1409\u001b[0m   tmp_logs \u001b[39m=\u001b[39m \u001b[39mself\u001b[39;49m\u001b[39m.\u001b[39;49mtrain_function(iterator)\n\u001b[1;32m   1410\u001b[0m   \u001b[39mif\u001b[39;00m data_handler\u001b[39m.\u001b[39mshould_sync:\n\u001b[1;32m   1411\u001b[0m     context\u001b[39m.\u001b[39masync_wait()\n",
            "File \u001b[0;32m~/.local/lib/python3.10/site-packages/tensorflow/python/util/traceback_utils.py:150\u001b[0m, in \u001b[0;36mfilter_traceback.<locals>.error_handler\u001b[0;34m(*args, **kwargs)\u001b[0m\n\u001b[1;32m    148\u001b[0m filtered_tb \u001b[39m=\u001b[39m \u001b[39mNone\u001b[39;00m\n\u001b[1;32m    149\u001b[0m \u001b[39mtry\u001b[39;00m:\n\u001b[0;32m--> 150\u001b[0m   \u001b[39mreturn\u001b[39;00m fn(\u001b[39m*\u001b[39;49margs, \u001b[39m*\u001b[39;49m\u001b[39m*\u001b[39;49mkwargs)\n\u001b[1;32m    151\u001b[0m \u001b[39mexcept\u001b[39;00m \u001b[39mException\u001b[39;00m \u001b[39mas\u001b[39;00m e:\n\u001b[1;32m    152\u001b[0m   filtered_tb \u001b[39m=\u001b[39m _process_traceback_frames(e\u001b[39m.\u001b[39m__traceback__)\n",
            "File \u001b[0;32m~/.local/lib/python3.10/site-packages/tensorflow/python/eager/def_function.py:915\u001b[0m, in \u001b[0;36mFunction.__call__\u001b[0;34m(self, *args, **kwds)\u001b[0m\n\u001b[1;32m    912\u001b[0m compiler \u001b[39m=\u001b[39m \u001b[39m\"\u001b[39m\u001b[39mxla\u001b[39m\u001b[39m\"\u001b[39m \u001b[39mif\u001b[39;00m \u001b[39mself\u001b[39m\u001b[39m.\u001b[39m_jit_compile \u001b[39melse\u001b[39;00m \u001b[39m\"\u001b[39m\u001b[39mnonXla\u001b[39m\u001b[39m\"\u001b[39m\n\u001b[1;32m    914\u001b[0m \u001b[39mwith\u001b[39;00m OptionalXlaContext(\u001b[39mself\u001b[39m\u001b[39m.\u001b[39m_jit_compile):\n\u001b[0;32m--> 915\u001b[0m   result \u001b[39m=\u001b[39m \u001b[39mself\u001b[39;49m\u001b[39m.\u001b[39;49m_call(\u001b[39m*\u001b[39;49margs, \u001b[39m*\u001b[39;49m\u001b[39m*\u001b[39;49mkwds)\n\u001b[1;32m    917\u001b[0m new_tracing_count \u001b[39m=\u001b[39m \u001b[39mself\u001b[39m\u001b[39m.\u001b[39mexperimental_get_tracing_count()\n\u001b[1;32m    918\u001b[0m without_tracing \u001b[39m=\u001b[39m (tracing_count \u001b[39m==\u001b[39m new_tracing_count)\n",
            "File \u001b[0;32m~/.local/lib/python3.10/site-packages/tensorflow/python/eager/def_function.py:947\u001b[0m, in \u001b[0;36mFunction._call\u001b[0;34m(self, *args, **kwds)\u001b[0m\n\u001b[1;32m    944\u001b[0m   \u001b[39mself\u001b[39m\u001b[39m.\u001b[39m_lock\u001b[39m.\u001b[39mrelease()\n\u001b[1;32m    945\u001b[0m   \u001b[39m# In this case we have created variables on the first call, so we run the\u001b[39;00m\n\u001b[1;32m    946\u001b[0m   \u001b[39m# defunned version which is guaranteed to never create variables.\u001b[39;00m\n\u001b[0;32m--> 947\u001b[0m   \u001b[39mreturn\u001b[39;00m \u001b[39mself\u001b[39;49m\u001b[39m.\u001b[39;49m_stateless_fn(\u001b[39m*\u001b[39;49margs, \u001b[39m*\u001b[39;49m\u001b[39m*\u001b[39;49mkwds)  \u001b[39m# pylint: disable=not-callable\u001b[39;00m\n\u001b[1;32m    948\u001b[0m \u001b[39melif\u001b[39;00m \u001b[39mself\u001b[39m\u001b[39m.\u001b[39m_stateful_fn \u001b[39mis\u001b[39;00m \u001b[39mnot\u001b[39;00m \u001b[39mNone\u001b[39;00m:\n\u001b[1;32m    949\u001b[0m   \u001b[39m# Release the lock early so that multiple threads can perform the call\u001b[39;00m\n\u001b[1;32m    950\u001b[0m   \u001b[39m# in parallel.\u001b[39;00m\n\u001b[1;32m    951\u001b[0m   \u001b[39mself\u001b[39m\u001b[39m.\u001b[39m_lock\u001b[39m.\u001b[39mrelease()\n",
            "File \u001b[0;32m~/.local/lib/python3.10/site-packages/tensorflow/python/eager/function.py:2453\u001b[0m, in \u001b[0;36mFunction.__call__\u001b[0;34m(self, *args, **kwargs)\u001b[0m\n\u001b[1;32m   2450\u001b[0m \u001b[39mwith\u001b[39;00m \u001b[39mself\u001b[39m\u001b[39m.\u001b[39m_lock:\n\u001b[1;32m   2451\u001b[0m   (graph_function,\n\u001b[1;32m   2452\u001b[0m    filtered_flat_args) \u001b[39m=\u001b[39m \u001b[39mself\u001b[39m\u001b[39m.\u001b[39m_maybe_define_function(args, kwargs)\n\u001b[0;32m-> 2453\u001b[0m \u001b[39mreturn\u001b[39;00m graph_function\u001b[39m.\u001b[39;49m_call_flat(\n\u001b[1;32m   2454\u001b[0m     filtered_flat_args, captured_inputs\u001b[39m=\u001b[39;49mgraph_function\u001b[39m.\u001b[39;49mcaptured_inputs)\n",
            "File \u001b[0;32m~/.local/lib/python3.10/site-packages/tensorflow/python/eager/function.py:1860\u001b[0m, in \u001b[0;36mConcreteFunction._call_flat\u001b[0;34m(self, args, captured_inputs, cancellation_manager)\u001b[0m\n\u001b[1;32m   1856\u001b[0m possible_gradient_type \u001b[39m=\u001b[39m gradients_util\u001b[39m.\u001b[39mPossibleTapeGradientTypes(args)\n\u001b[1;32m   1857\u001b[0m \u001b[39mif\u001b[39;00m (possible_gradient_type \u001b[39m==\u001b[39m gradients_util\u001b[39m.\u001b[39mPOSSIBLE_GRADIENT_TYPES_NONE\n\u001b[1;32m   1858\u001b[0m     \u001b[39mand\u001b[39;00m executing_eagerly):\n\u001b[1;32m   1859\u001b[0m   \u001b[39m# No tape is watching; skip to running the function.\u001b[39;00m\n\u001b[0;32m-> 1860\u001b[0m   \u001b[39mreturn\u001b[39;00m \u001b[39mself\u001b[39m\u001b[39m.\u001b[39m_build_call_outputs(\u001b[39mself\u001b[39;49m\u001b[39m.\u001b[39;49m_inference_function\u001b[39m.\u001b[39;49mcall(\n\u001b[1;32m   1861\u001b[0m       ctx, args, cancellation_manager\u001b[39m=\u001b[39;49mcancellation_manager))\n\u001b[1;32m   1862\u001b[0m forward_backward \u001b[39m=\u001b[39m \u001b[39mself\u001b[39m\u001b[39m.\u001b[39m_select_forward_and_backward_functions(\n\u001b[1;32m   1863\u001b[0m     args,\n\u001b[1;32m   1864\u001b[0m     possible_gradient_type,\n\u001b[1;32m   1865\u001b[0m     executing_eagerly)\n\u001b[1;32m   1866\u001b[0m forward_function, args_with_tangents \u001b[39m=\u001b[39m forward_backward\u001b[39m.\u001b[39mforward()\n",
            "File \u001b[0;32m~/.local/lib/python3.10/site-packages/tensorflow/python/eager/function.py:497\u001b[0m, in \u001b[0;36m_EagerDefinedFunction.call\u001b[0;34m(self, ctx, args, cancellation_manager)\u001b[0m\n\u001b[1;32m    495\u001b[0m \u001b[39mwith\u001b[39;00m _InterpolateFunctionError(\u001b[39mself\u001b[39m):\n\u001b[1;32m    496\u001b[0m   \u001b[39mif\u001b[39;00m cancellation_manager \u001b[39mis\u001b[39;00m \u001b[39mNone\u001b[39;00m:\n\u001b[0;32m--> 497\u001b[0m     outputs \u001b[39m=\u001b[39m execute\u001b[39m.\u001b[39;49mexecute(\n\u001b[1;32m    498\u001b[0m         \u001b[39mstr\u001b[39;49m(\u001b[39mself\u001b[39;49m\u001b[39m.\u001b[39;49msignature\u001b[39m.\u001b[39;49mname),\n\u001b[1;32m    499\u001b[0m         num_outputs\u001b[39m=\u001b[39;49m\u001b[39mself\u001b[39;49m\u001b[39m.\u001b[39;49m_num_outputs,\n\u001b[1;32m    500\u001b[0m         inputs\u001b[39m=\u001b[39;49margs,\n\u001b[1;32m    501\u001b[0m         attrs\u001b[39m=\u001b[39;49mattrs,\n\u001b[1;32m    502\u001b[0m         ctx\u001b[39m=\u001b[39;49mctx)\n\u001b[1;32m    503\u001b[0m   \u001b[39melse\u001b[39;00m:\n\u001b[1;32m    504\u001b[0m     outputs \u001b[39m=\u001b[39m execute\u001b[39m.\u001b[39mexecute_with_cancellation(\n\u001b[1;32m    505\u001b[0m         \u001b[39mstr\u001b[39m(\u001b[39mself\u001b[39m\u001b[39m.\u001b[39msignature\u001b[39m.\u001b[39mname),\n\u001b[1;32m    506\u001b[0m         num_outputs\u001b[39m=\u001b[39m\u001b[39mself\u001b[39m\u001b[39m.\u001b[39m_num_outputs,\n\u001b[0;32m   (...)\u001b[0m\n\u001b[1;32m    509\u001b[0m         ctx\u001b[39m=\u001b[39mctx,\n\u001b[1;32m    510\u001b[0m         cancellation_manager\u001b[39m=\u001b[39mcancellation_manager)\n",
            "File \u001b[0;32m~/.local/lib/python3.10/site-packages/tensorflow/python/eager/execute.py:54\u001b[0m, in \u001b[0;36mquick_execute\u001b[0;34m(op_name, num_outputs, inputs, attrs, ctx, name)\u001b[0m\n\u001b[1;32m     52\u001b[0m \u001b[39mtry\u001b[39;00m:\n\u001b[1;32m     53\u001b[0m   ctx\u001b[39m.\u001b[39mensure_initialized()\n\u001b[0;32m---> 54\u001b[0m   tensors \u001b[39m=\u001b[39m pywrap_tfe\u001b[39m.\u001b[39;49mTFE_Py_Execute(ctx\u001b[39m.\u001b[39;49m_handle, device_name, op_name,\n\u001b[1;32m     55\u001b[0m                                       inputs, attrs, num_outputs)\n\u001b[1;32m     56\u001b[0m \u001b[39mexcept\u001b[39;00m core\u001b[39m.\u001b[39m_NotOkStatusException \u001b[39mas\u001b[39;00m e:\n\u001b[1;32m     57\u001b[0m   \u001b[39mif\u001b[39;00m name \u001b[39mis\u001b[39;00m \u001b[39mnot\u001b[39;00m \u001b[39mNone\u001b[39;00m:\n",
            "\u001b[0;31mKeyboardInterrupt\u001b[0m: "
          ]
        }
      ],
      "source": [
        "epochs = 1  # This should be at least 30 for convergence\n",
        "\n",
        "transformer.summary()\n",
        "transformer.compile(\n",
        "    \"rmsprop\", loss=\"sparse_categorical_crossentropy\", metrics=[\"accuracy\"]\n",
        ")\n",
        "transformer.fit(train_ds, epochs=epochs, validation_data=val_ds)\n"
      ]
    },
    {
      "cell_type": "code",
      "execution_count": null,
      "metadata": {},
      "outputs": [],
      "source": [
        "y_vocab = y_vectorization.get_vocabulary()\n",
        "y_index_lookup = dict(zip(range(len(y_vocab)), y_vocab))\n",
        "max_decoded_sentence_length = 250\n",
        "\n",
        "\n",
        "def decode_sequence(input_sentence):\n",
        "    tokenized_input_sentence = X_vectorization([input_sentence])\n",
        "    decoded_sentence = \"[start]\"\n",
        "    for i in range(max_decoded_sentence_length):\n",
        "        tokenized_target_sentence = y_vectorization([decoded_sentence])[:, :-1]\n",
        "        predictions = transformer([tokenized_input_sentence, tokenized_target_sentence])\n",
        "\n",
        "        sampled_token_index = np.argmax(predictions[0, i, :])\n",
        "        sampled_token = y_index_lookup[sampled_token_index]\n",
        "        decoded_sentence += \" \" + sampled_token\n",
        "\n",
        "        if sampled_token == \"[end]\":\n",
        "            break\n",
        "    return decoded_sentence"
      ]
    },
    {
      "cell_type": "code",
      "execution_count": null,
      "metadata": {},
      "outputs": [
        {
          "data": {
            "text/plain": [
              "'[start] 227 prod i prod pow e 4 prod pow sum pow mu 2 sum s45 prod 12 regprop 1 prod pow sum pow mu 2 sum prod 1 s24 prod 1 s25 s45 prod 12 regprop 1 prod pow sum pow mc 2 sum pow mu 2 s23 prod 1 s14 prod 1 s15 prod 1 s24 prod 1 s25 s45 prod 12 regprop 1 sum prod p2 alpha11 prod gamma alpha11 alpha19 alpha11 prod gamma alpha11 alpha19 alpha11 prod gamma alpha11 alpha19 alpha11 prod c i1 alpha3 p1u prod c i3 alpha11 p6v prod t i0 alpha11 p1u prod t i5 alpha3 p2v prod u i4 alpha11 p4u u i2 alpha6 p5v sum prod 12 prod p4 alpha11 prod gamma alpha11 alpha1 alpha21 prod gamma alpha11 alpha1 alpha11 prod gamma alpha11 alpha11 alpha19 prod gamma alpha11 alpha11 alpha19 prod gamma alpha11 alpha24 alpha17 prod c i1 alpha11 p3v prod c i3 alpha3 p6v prod t i0 alpha11 p1u prod t i5 alpha11 p2v prod u i4 alpha11 p4u prod t i5 alpha11 p5v prod prod p5 alpha11 prod gamma alpha11 alpha22 alpha21 prod gamma alpha7 alpha19 alpha22 prod gamma alpha11 alpha24 alpha21 prod gamma alpha11 alpha21 alpha24 prod gamma alpha11 alpha24 alpha21 prod c i1 alpha11 p3v prod c i3 alpha11 p6v prod t i0 alpha11 p1u prod t i5 alpha3 p2v prod u i4 alpha11 p4u prod u i2 alpha11 p5v prod 12 regprop 1 prod gamma alpha11 p4u prod u i4 alpha11 p3v prod u i4 alpha11'"
            ]
          },
          "execution_count": 67,
          "metadata": {},
          "output_type": "execute_result"
        }
      ],
      "source": [
        "decode_sequence(X_val_text[0])"
      ]
    },
    {
      "cell_type": "code",
      "execution_count": null,
      "metadata": {},
      "outputs": [
        {
          "data": {
            "text/plain": [
              "<tf.Tensor: shape=(250,), dtype=int64, numpy=\n",
              "array([  2, 106,   2,  60,   2,   6,  61,  65,   2,   6,   4,   6,  30,\n",
              "         8,   4,  69,   2,   7,  14,   5,   2,   6,   4,   6,  30,   8,\n",
              "         4,   2,   5,  66,   2,   5,  67,  69,   2,   7,  14,   5,   2,\n",
              "         6,   4,   6,  82,   8,   4,   6,  30,   8,  62,   2,   5,  58,\n",
              "         2,   5,  72,   2,   5,  66,   2,   5,  67,  69,   2,   7,  14,\n",
              "         5,   4,   2,  71,  33,   2,   3,  16,  20,  42,   2,   3,  16,\n",
              "        29,  28,   2,   3,  33,  19,  41,   2,  47,  10,  29,  51,   2,\n",
              "        47,  12,  28,  53,   2,  45,  11,  42,  39,   2,  45,  15,  20,\n",
              "        54,   2,  48,  13,  19,  43,  48,   9,  41,  56,   4,   2,   7,\n",
              "         2,  74,  17,   2,   3,  17,  23,  31,   2,   3,  16,  31,  37,\n",
              "         2,   3,  16,  40,  24,   2,   3,  33,  32,  23,   2,   3,  33,\n",
              "        22,  18,   2,  47,  10,  40,  51,   2,  47,  12,  24,  53,   2,\n",
              "        45,  11,  37,  39,   2,  45,  15,  32,  54,   2,  48,  13,  22,\n",
              "        43,  48,   9,  18,  56,   2,   7,   2,  70,  17,   2,   3,  17,\n",
              "        36,  27,   2,   3,  16,  27,  21,   2,   3,  16,  38,  35,   2,\n",
              "         3,  33,  25,  36,   2,   3,  33,  34,  26,   2,  47,  10,  38,\n",
              "        51,   2,  47,  12,  35,  53,   2,  45,  11,  21,  39,   2,  45,\n",
              "        15,  25,  54,   2,  48,  13,  34,  43,  48,   9,  26,  56,   0,\n",
              "         0,   0,   0,   0,   0,   0,   0,   0,   0,   0,   0,   0,   0,\n",
              "         0,   0,   0])>"
            ]
          },
          "execution_count": 65,
          "metadata": {},
          "output_type": "execute_result"
        }
      ],
      "source": [
        "X_vectorization(X_val_text[0])"
      ]
    },
    {
      "cell_type": "code",
      "execution_count": null,
      "metadata": {},
      "outputs": [],
      "source": []
    }
  ],
  "metadata": {
    "accelerator": "GPU",
    "colab": {
      "background_execution": "on",
      "collapsed_sections": [],
      "name": "2022-07-20-RNNAttention.ipynb",
      "provenance": []
    },
    "gpuClass": "standard",
    "kernelspec": {
      "display_name": "symba",
      "language": "python",
      "name": "symba"
    },
    "language_info": {
      "codemirror_mode": {
        "name": "ipython",
        "version": 3
      },
      "file_extension": ".py",
      "mimetype": "text/x-python",
      "name": "python",
      "nbconvert_exporter": "python",
      "pygments_lexer": "ipython3",
      "version": "3.10.5"
    },
    "vscode": {
      "interpreter": {
        "hash": "f5d976e6d509e4e27f2efe6a9897c82aaf49c602a756d97e47468f8a9400283d"
      }
    }
  },
  "nbformat": 4,
  "nbformat_minor": 0
}
