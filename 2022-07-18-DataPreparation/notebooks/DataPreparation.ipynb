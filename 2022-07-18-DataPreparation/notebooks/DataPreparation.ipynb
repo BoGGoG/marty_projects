{
 "cells": [
  {
   "cell_type": "code",
   "execution_count": 1,
   "metadata": {},
   "outputs": [],
   "source": [
    "import sys\n",
    "import os\n",
    "from icecream import ic \n",
    "import csv\n",
    "import numpy as np\n",
    "import more_itertools\n",
    "import matplotlib.pyplot as plt\n",
    "  \n",
    "# current = os.path.dirname(os.path.realpath(__file__))\n",
    "# parent = os.path.dirname(current)\n",
    "\n",
    "current = os.curdir\n",
    "# parent = os.path.dirname(current)\n",
    "# sys.path.append(parent)\n",
    "os.chdir(\"..\")\n",
    "\n",
    "from source.read_amplitudes import read_amplitudes, fix_operator_num_args, get_tree, fix_tree, fix_subscript, fix_subscripts, read_amplitudes_and_squares\n",
    "  "
   ]
  },
  {
   "cell_type": "code",
   "execution_count": 2,
   "metadata": {},
   "outputs": [
    {
     "data": {
      "text/plain": [
       "['source', 'notebooks']"
      ]
     },
     "execution_count": 2,
     "metadata": {},
     "output_type": "execute_result"
    }
   ],
   "source": [
    "os.listdir()"
   ]
  },
  {
   "cell_type": "code",
   "execution_count": 3,
   "metadata": {},
   "outputs": [],
   "source": [
    "ampl_folders_prefix = \"../QED_AllParticles_IO/out/ampl/\"\n",
    "sqampl_folders_prefix = \"../QED_AllParticles_IO/out/sq_ampl/\"\n",
    "amplitudes_folders_names = [\"1to2/\", \"2to1/\", \"2to2/\", \"2to3/\", \"3to2/\", \"3to3/\"] \n",
    "amplitudes_folders = [ampl_folders_prefix+a for a in amplitudes_folders_names]\n",
    "sqamplitudes_folders_names = [\"1to2/\", \"2to1/\", \"2to2/\", \"2to3/\", \"3to2/\", \"3to3/\"] \n",
    "sqamplitudes_folders = [sqampl_folders_prefix+a for a in sqamplitudes_folders_names]"
   ]
  },
  {
   "cell_type": "code",
   "execution_count": 4,
   "metadata": {},
   "outputs": [],
   "source": [
    "amplitudes = dict()\n",
    "sqamplitudes = dict()\n",
    "for amplitudes_folder, sqamplitudes_folder, name in zip(amplitudes_folders, sqamplitudes_folders, amplitudes_folders_names):\n",
    "\n",
    "    amplitudes_files = os.listdir(amplitudes_folder)\n",
    "    sqamplitudes_files = os.listdir(sqamplitudes_folder)\n",
    "    # ic(len(amplitudes_files))\n",
    "    # ic(len(sqamplitudes_files))\n",
    "    ampl, sqampl = read_amplitudes_and_squares(amplitudes_folder, sqamplitudes_folder)\n",
    "\n",
    "\n",
    "    ampls_prefix = []\n",
    "    for exp in ampl:\n",
    "        tree = get_tree(exp)\n",
    "        tree = fix_tree(tree)\n",
    "        final_expr = fix_subscripts(tree)\n",
    "        ampls_prefix.append(final_expr)\n",
    "\n",
    "    sqampls_prefix = []\n",
    "    for exp in sqampl:\n",
    "        tree = get_tree(exp)\n",
    "        tree = fix_tree(tree)\n",
    "        final_expr = fix_subscripts(tree)\n",
    "        sqampls_prefix.append(final_expr)\n",
    "    amplitudes[name] = ampls_prefix\n",
    "    sqamplitudes[name] = sqampls_prefix"
   ]
  },
  {
   "cell_type": "code",
   "execution_count": 5,
   "metadata": {},
   "outputs": [],
   "source": [
    "all_amplitudes = []\n",
    "for key in amplitudes.keys():\n",
    "    for x in amplitudes[key]:\n",
    "        all_amplitudes.append(x)\n",
    "\n",
    "all_sqamplitudes = []\n",
    "for key in sqamplitudes.keys():\n",
    "    for x in sqamplitudes[key]:\n",
    "        all_sqamplitudes.append(x)"
   ]
  },
  {
   "cell_type": "code",
   "execution_count": 6,
   "metadata": {},
   "outputs": [
    {
     "data": {
      "text/plain": [
       "37368"
      ]
     },
     "execution_count": 6,
     "metadata": {},
     "output_type": "execute_result"
    }
   ],
   "source": [
    "len(all_amplitudes)\n",
    "len(all_sqamplitudes)"
   ]
  },
  {
   "cell_type": "code",
   "execution_count": 7,
   "metadata": {},
   "outputs": [],
   "source": [
    "outfile_amplitudes = \"../data.nosync/QED_amplitudes_TreeLevel_UpTo3to3.txt\"\n",
    "outfile_sqamplitudes = \"../data.nosync/QED_sqamplitudes_TreeLevel_UpTo3to3.txt\""
   ]
  },
  {
   "cell_type": "code",
   "execution_count": 8,
   "metadata": {},
   "outputs": [],
   "source": [
    "with open(outfile_amplitudes, 'w') as f:\n",
    "    for line in all_amplitudes:\n",
    "        line = \";\".join(line)\n",
    "        f.write(line)\n",
    "        f.write(\"\\n\")\n",
    "\n",
    "with open(outfile_sqamplitudes, 'w') as f:\n",
    "    for line in all_sqamplitudes:\n",
    "        line = \";\".join(line)\n",
    "        f.write(line)\n",
    "        f.write(\"\\n\")"
   ]
  },
  {
   "cell_type": "code",
   "execution_count": 9,
   "metadata": {},
   "outputs": [],
   "source": [
    "X = []\n",
    "with open(outfile_amplitudes, 'r') as f:\n",
    "    for line in f.readlines() :\n",
    "        line = line.split(\";\")\n",
    "        # have to remove new line character for some reason\n",
    "        line[-1] = line[-1].replace(\"\\n\", \"\")\n",
    "        X.append(line)\n",
    "\n",
    "y = []\n",
    "with open(outfile_sqamplitudes, 'r') as f:\n",
    "    for line in f.readlines() :\n",
    "        line = line.split(\";\")\n",
    "        # have to remove new line character for some reason\n",
    "        line[-1] = line[-1].replace(\"\\n\", \"\")\n",
    "        y.append(line)"
   ]
  },
  {
   "cell_type": "code",
   "execution_count": 10,
   "metadata": {},
   "outputs": [
    {
     "name": "stderr",
     "output_type": "stream",
     "text": [
      "ic| X == all_amplitudes: True\n",
      "ic| y == all_sqamplitudes: True\n"
     ]
    }
   ],
   "source": [
    "ic(X == all_amplitudes);\n",
    "ic(y == all_sqamplitudes);"
   ]
  },
  {
   "cell_type": "code",
   "execution_count": null,
   "metadata": {},
   "outputs": [],
   "source": []
  }
 ],
 "metadata": {
  "kernelspec": {
   "display_name": "Python 3.10.5 64-bit",
   "language": "python",
   "name": "python3"
  },
  "language_info": {
   "codemirror_mode": {
    "name": "ipython",
    "version": 3
   },
   "file_extension": ".py",
   "mimetype": "text/x-python",
   "name": "python",
   "nbconvert_exporter": "python",
   "pygments_lexer": "ipython3",
   "version": "3.10.5"
  },
  "orig_nbformat": 4,
  "vscode": {
   "interpreter": {
    "hash": "e7370f93d1d0cde622a1f8e1c04877d8463912d04d973331ad4851f04de6915a"
   }
  }
 },
 "nbformat": 4,
 "nbformat_minor": 2
}
