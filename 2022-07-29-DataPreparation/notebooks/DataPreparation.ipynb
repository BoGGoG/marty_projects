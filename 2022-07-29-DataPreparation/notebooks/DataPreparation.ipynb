{
 "cells": [
  {
   "cell_type": "code",
   "execution_count": 5,
   "metadata": {},
   "outputs": [],
   "source": [
    "import sys\n",
    "import os\n",
    "from icecream import ic \n",
    "import csv\n",
    "import numpy as np\n",
    "import more_itertools\n",
    "import matplotlib.pyplot as plt\n",
    "import sympy as sp\n",
    "from tqdm.notebook import tqdm\n",
    "  \n",
    "# current = os.path.dirname(os.path.realpath(__file__))\n",
    "# parent = os.path.dirname(current)\n",
    "\n",
    "current = os.curdir\n",
    "# parent = os.path.dirname(current)\n",
    "# sys.path.append(parent)\n",
    "os.chdir(\"..\")\n",
    "\n",
    "from source.read_amplitudes import read_amplitudes, read_amplitudes_and_raw_squares, fix_operator_num_args, get_tree, fix_tree, fix_subscript, fix_subscripts, read_amplitudes_and_squares\n",
    "import sympy as sp\n",
    "from source.SympyPrefix import prefix_to_sympy, sympy_to_prefix\n",
    "\n",
    "  "
   ]
  },
  {
   "cell_type": "code",
   "execution_count": 6,
   "metadata": {},
   "outputs": [
    {
     "data": {
      "text/plain": [
       "['source', 'notebooks', 'dev']"
      ]
     },
     "execution_count": 6,
     "metadata": {},
     "output_type": "execute_result"
    }
   ],
   "source": [
    "os.listdir()"
   ]
  },
  {
   "cell_type": "code",
   "execution_count": 7,
   "metadata": {},
   "outputs": [],
   "source": [
    "ampl_folders_prefix = \"../QED_AllParticles_IO/out/ampl/\"\n",
    "# sqampl_folders_prefix = \"../QED_AllParticles_IO/out/sq_ampl/\"\n",
    "sqampl_raw_folders_prefix = \"../QED_AllParticles_IO/out/sq_ampl_raw/\"\n",
    "amplitudes_folders_names = [\"1to2/\", \"2to1/\", \"2to2/\", \"2to3/\", \"3to2/\",] \n",
    "amplitudes_folders = [ampl_folders_prefix+a for a in amplitudes_folders_names]\n",
    "sqamplitudes_raw_folders_names = [\"1to2/\", \"2to1/\", \"2to2/\", \"2to3/\", \"3to2/\",] \n",
    "sqamplitudes_folders = [sqampl_raw_folders_prefix+a for a in sqamplitudes_raw_folders_names]"
   ]
  },
  {
   "cell_type": "code",
   "execution_count": 7,
   "metadata": {},
   "outputs": [
    {
     "name": "stderr",
     "output_type": "stream",
     "text": [
      "ic| name: '1to2/'\n",
      "ic| len(files_ampl): 27\n",
      "ic| len(files_sqampl): 27\n"
     ]
    },
    {
     "name": "stdout",
     "output_type": "stream",
     "text": [
      "Working on amplitudes\n"
     ]
    },
    {
     "data": {
      "application/vnd.jupyter.widget-view+json": {
       "model_id": "87257d689697481c9900d8c9ac271930",
       "version_major": 2,
       "version_minor": 0
      },
      "text/plain": [
       "  0%|          | 0/27 [00:00<?, ?it/s]"
      ]
     },
     "metadata": {},
     "output_type": "display_data"
    },
    {
     "name": "stdout",
     "output_type": "stream",
     "text": [
      "Working on squared amplitudes\n"
     ]
    },
    {
     "data": {
      "application/vnd.jupyter.widget-view+json": {
       "model_id": "6b99f4955180458781427e240fd5acb9",
       "version_major": 2,
       "version_minor": 0
      },
      "text/plain": [
       "  0%|          | 0/27 [00:00<?, ?it/s]"
      ]
     },
     "metadata": {},
     "output_type": "display_data"
    },
    {
     "name": "stderr",
     "output_type": "stream",
     "text": [
      "ic| name: '2to1/'\n",
      "ic| len(files_ampl): 27\n",
      "ic| len(files_sqampl): 27\n"
     ]
    },
    {
     "name": "stdout",
     "output_type": "stream",
     "text": [
      "Working on amplitudes\n"
     ]
    },
    {
     "data": {
      "application/vnd.jupyter.widget-view+json": {
       "model_id": "6179195449eb49ad84ecc94038e0c64e",
       "version_major": 2,
       "version_minor": 0
      },
      "text/plain": [
       "  0%|          | 0/27 [00:00<?, ?it/s]"
      ]
     },
     "metadata": {},
     "output_type": "display_data"
    },
    {
     "name": "stdout",
     "output_type": "stream",
     "text": [
      "Working on squared amplitudes\n"
     ]
    },
    {
     "data": {
      "application/vnd.jupyter.widget-view+json": {
       "model_id": "e13adbc3dbf44b608f6072bdb72d3cd8",
       "version_major": 2,
       "version_minor": 0
      },
      "text/plain": [
       "  0%|          | 0/27 [00:00<?, ?it/s]"
      ]
     },
     "metadata": {},
     "output_type": "display_data"
    },
    {
     "name": "stderr",
     "output_type": "stream",
     "text": [
      "ic| name: '2to2/'\n",
      "ic| len(files_ampl): 279\n",
      "ic| len(files_sqampl): 279\n"
     ]
    },
    {
     "name": "stdout",
     "output_type": "stream",
     "text": [
      "Working on amplitudes\n"
     ]
    },
    {
     "data": {
      "application/vnd.jupyter.widget-view+json": {
       "model_id": "e598228ecbb14ed996624e3773305bde",
       "version_major": 2,
       "version_minor": 0
      },
      "text/plain": [
       "  0%|          | 0/342 [00:00<?, ?it/s]"
      ]
     },
     "metadata": {},
     "output_type": "display_data"
    },
    {
     "name": "stdout",
     "output_type": "stream",
     "text": [
      "Working on squared amplitudes\n"
     ]
    },
    {
     "data": {
      "application/vnd.jupyter.widget-view+json": {
       "model_id": "230553c60e984df7ad68c5c2c2b1beeb",
       "version_major": 2,
       "version_minor": 0
      },
      "text/plain": [
       "  0%|          | 0/342 [00:00<?, ?it/s]"
      ]
     },
     "metadata": {},
     "output_type": "display_data"
    },
    {
     "name": "stderr",
     "output_type": "stream",
     "text": [
      "ic| name: '2to3/'\n",
      "ic| len(files_ampl): 441\n",
      "ic| len(files_sqampl): 441\n"
     ]
    },
    {
     "name": "stdout",
     "output_type": "stream",
     "text": [
      "Working on amplitudes\n"
     ]
    },
    {
     "data": {
      "application/vnd.jupyter.widget-view+json": {
       "model_id": "3156afb8cd454dc89110fb82809f954a",
       "version_major": 2,
       "version_minor": 0
      },
      "text/plain": [
       "  0%|          | 0/2016 [00:00<?, ?it/s]"
      ]
     },
     "metadata": {},
     "output_type": "display_data"
    },
    {
     "name": "stdout",
     "output_type": "stream",
     "text": [
      "Working on squared amplitudes\n"
     ]
    },
    {
     "data": {
      "application/vnd.jupyter.widget-view+json": {
       "model_id": "3e1ca04dbe654d988a89cc498cfbd8a7",
       "version_major": 2,
       "version_minor": 0
      },
      "text/plain": [
       "  0%|          | 0/2016 [00:00<?, ?it/s]"
      ]
     },
     "metadata": {},
     "output_type": "display_data"
    },
    {
     "name": "stderr",
     "output_type": "stream",
     "text": [
      "ic| name: '3to2/'\n",
      "ic| len(files_ampl): 441\n",
      "ic| len(files_sqampl): 441\n"
     ]
    },
    {
     "name": "stdout",
     "output_type": "stream",
     "text": [
      "Working on amplitudes\n"
     ]
    },
    {
     "data": {
      "application/vnd.jupyter.widget-view+json": {
       "model_id": "eb2bf6fc03f6462894009ca16f9c8f77",
       "version_major": 2,
       "version_minor": 0
      },
      "text/plain": [
       "  0%|          | 0/2016 [00:00<?, ?it/s]"
      ]
     },
     "metadata": {},
     "output_type": "display_data"
    },
    {
     "name": "stdout",
     "output_type": "stream",
     "text": [
      "Working on squared amplitudes\n"
     ]
    },
    {
     "data": {
      "application/vnd.jupyter.widget-view+json": {
       "model_id": "663c5be504ab469ea7f2a0d0530a37bf",
       "version_major": 2,
       "version_minor": 0
      },
      "text/plain": [
       "  0%|          | 0/2016 [00:00<?, ?it/s]"
      ]
     },
     "metadata": {},
     "output_type": "display_data"
    }
   ],
   "source": [
    "\n",
    "amplitudes = dict()\n",
    "sqamplitudes = dict()\n",
    "for amplitudes_folder, sqamplitudes_folder, name in zip(amplitudes_folders, sqamplitudes_folders, amplitudes_folders_names):\n",
    "    ic(name)\n",
    "\n",
    "    amplitudes_files = os.listdir(amplitudes_folder)\n",
    "    sqamplitudes_files = os.listdir(sqamplitudes_folder)\n",
    "    ampl, sqampl_raw = read_amplitudes_and_raw_squares(amplitudes_folder, sqamplitudes_folder)\n",
    "\n",
    "    ampls_prefix = []\n",
    "    print(\"Working on amplitudes\")\n",
    "    for exp in tqdm(ampl):\n",
    "        tree = get_tree(exp)\n",
    "        tree = fix_tree(tree)\n",
    "        final_expr = fix_subscripts(tree)\n",
    "        ampls_prefix.append(final_expr)\n",
    "\n",
    "    sqampls_prefix = []\n",
    "    print(\"Working on squared amplitudes\")\n",
    "    for exp in tqdm(sqampl_raw):\n",
    "        simplified = sp.factor(exp)\n",
    "        prefix = sympy_to_prefix(simplified)\n",
    "        sqampls_prefix.append(prefix)\n",
    "    amplitudes[name] = ampls_prefix\n",
    "    sqamplitudes[name] = sqampls_prefix"
   ]
  },
  {
   "cell_type": "code",
   "execution_count": 8,
   "metadata": {},
   "outputs": [],
   "source": [
    "all_amplitudes = []\n",
    "for key in amplitudes.keys():\n",
    "    for x in amplitudes[key]:\n",
    "        all_amplitudes.append(x)\n",
    "\n",
    "all_sqamplitudes = []\n",
    "for key in sqamplitudes.keys():\n",
    "    for x in sqamplitudes[key]:\n",
    "        all_sqamplitudes.append(x)"
   ]
  },
  {
   "cell_type": "code",
   "execution_count": 9,
   "metadata": {},
   "outputs": [
    {
     "data": {
      "text/plain": [
       "4428"
      ]
     },
     "execution_count": 9,
     "metadata": {},
     "output_type": "execute_result"
    }
   ],
   "source": [
    "len(all_amplitudes)\n",
    "len(all_sqamplitudes)"
   ]
  },
  {
   "cell_type": "code",
   "execution_count": 8,
   "metadata": {},
   "outputs": [],
   "source": [
    "outfile_amplitudes = \"../data.nosync/QED_amplitudes_TreeLevel_UpTo3to3.txt\"\n",
    "outfile_sqamplitudes = \"../data.nosync/QED_sqamplitudes_TreeLevel_UpTo3to3.txt\""
   ]
  },
  {
   "cell_type": "code",
   "execution_count": 11,
   "metadata": {},
   "outputs": [],
   "source": [
    "with open(outfile_amplitudes, 'w') as f:\n",
    "    for line in all_amplitudes:\n",
    "        line = \";\".join(line)\n",
    "        f.write(line)\n",
    "        f.write(\"\\n\")\n",
    "\n",
    "with open(outfile_sqamplitudes, 'w') as f:\n",
    "    for line in all_sqamplitudes:\n",
    "        line = \";\".join(line)\n",
    "        f.write(line)\n",
    "        f.write(\"\\n\")"
   ]
  },
  {
   "cell_type": "code",
   "execution_count": 9,
   "metadata": {},
   "outputs": [],
   "source": [
    "X = []\n",
    "with open(outfile_amplitudes, 'r') as f:\n",
    "    for line in f.readlines() :\n",
    "        line = line.split(\";\")\n",
    "        # have to remove new line character for some reason\n",
    "        line[-1] = line[-1].replace(\"\\n\", \"\")\n",
    "        X.append(line)\n",
    "\n",
    "y = []\n",
    "with open(outfile_sqamplitudes, 'r') as f:\n",
    "    for line in f.readlines() :\n",
    "        line = line.split(\";\")\n",
    "        # have to remove new line character for some reason\n",
    "        line[-1] = line[-1].replace(\"\\n\", \"\")\n",
    "        y.append(line)"
   ]
  },
  {
   "cell_type": "code",
   "execution_count": 13,
   "metadata": {},
   "outputs": [
    {
     "name": "stderr",
     "output_type": "stream",
     "text": [
      "ic| X == all_amplitudes: True\n",
      "ic| y == all_sqamplitudes: True\n"
     ]
    }
   ],
   "source": [
    "ic(X == all_amplitudes);\n",
    "ic(y == all_sqamplitudes);"
   ]
  },
  {
   "cell_type": "code",
   "execution_count": 10,
   "metadata": {},
   "outputs": [],
   "source": [
    "ampls_lens = [len(x) for x in X]\n",
    "sqampls_lens = [len(x) for x in y]"
   ]
  },
  {
   "cell_type": "code",
   "execution_count": 12,
   "metadata": {},
   "outputs": [
    {
     "name": "stderr",
     "output_type": "stream",
     "text": [
      "ic| np.mean(ampls_lens): 163.789972899729\n",
      "ic| np.mean(sqampls_lens): 267.45867208672087\n"
     ]
    },
    {
     "data": {
      "text/plain": [
       "267.45867208672087"
      ]
     },
     "execution_count": 12,
     "metadata": {},
     "output_type": "execute_result"
    },
    {
     "data": {
      "image/png": "[encoded data removed]",
      "text/plain": [
       "<Figure size 432x288 with 1 Axes>"
      ]
     },
     "metadata": {
      "needs_background": "light"
     },
     "output_type": "display_data"
    }
   ],
   "source": [
    "plt.hist(ampls_lens, label=\"Amplitudes lengths\")\n",
    "plt.hist(sqampls_lens, label=\"Squared amplitudes lengths\")\n",
    "plt.legend()\n",
    "ic(np.mean(ampls_lens))\n",
    "ic(np.mean(sqampls_lens))"
   ]
  },
  {
   "cell_type": "code",
   "execution_count": null,
   "metadata": {},
   "outputs": [],
   "source": []
  }
 ],
 "metadata": {
  "kernelspec": {
   "display_name": "Python 3.10.5 64-bit",
   "language": "python",
   "name": "python3"
  },
  "language_info": {
   "codemirror_mode": {
    "name": "ipython",
    "version": 3
   },
   "file_extension": ".py",
   "mimetype": "text/x-python",
   "name": "python",
   "nbconvert_exporter": "python",
   "pygments_lexer": "ipython3",
   "version": "3.10.5"
  },
  "orig_nbformat": 4,
  "vscode": {
   "interpreter": {
    "hash": "e7370f93d1d0cde622a1f8e1c04877d8463912d04d973331ad4851f04de6915a"
   }
  }
 },
 "nbformat": 4,
 "nbformat_minor": 2
}
