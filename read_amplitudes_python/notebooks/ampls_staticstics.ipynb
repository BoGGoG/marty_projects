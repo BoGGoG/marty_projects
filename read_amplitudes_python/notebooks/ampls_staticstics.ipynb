{
 "cells": [
  {
   "cell_type": "code",
   "execution_count": 1,
   "metadata": {},
   "outputs": [],
   "source": [
    "import sys\n",
    "import os\n",
    "from icecream import ic \n",
    "import csv\n",
    "import numpy as np\n",
    "import more_itertools\n",
    "import matplotlib.pyplot as plt\n",
    "  \n",
    "# current = os.path.dirname(os.path.realpath(__file__))\n",
    "# parent = os.path.dirname(current)\n",
    "\n",
    "current = os.curdir\n",
    "# parent = os.path.dirname(current)\n",
    "# sys.path.append(parent)\n",
    "os.chdir(\"..\")\n",
    "\n",
    "from source.read_amplitudes import read_amplitudes, fix_operator_num_args, get_tree, fix_tree, fix_subscript, fix_subscripts, read_amplitudes_and_squares\n",
    "  "
   ]
  },
  {
   "cell_type": "code",
   "execution_count": 2,
   "metadata": {},
   "outputs": [
    {
     "data": {
      "text/plain": [
       "['source', 'test', '.pytest_cache', 'dev', '.swp', 'test.txt', 'notebooks']"
      ]
     },
     "execution_count": 2,
     "metadata": {},
     "output_type": "execute_result"
    }
   ],
   "source": [
    "os.listdir()"
   ]
  },
  {
   "cell_type": "code",
   "execution_count": 3,
   "metadata": {},
   "outputs": [],
   "source": [
    "ampl_folders_prefix = \"../QED_AllParticles_IO/out/ampl/\"\n",
    "sqampl_folders_prefix = \"../QED_AllParticles_IO/out/sq_ampl/\"\n",
    "amplitudes_folders_names = [\"1to2/\", \"2to1/\", \"2to2/\", \"2to3/\", \"3to2/\"] \n",
    "amplitudes_folders = [ampl_folders_prefix+a for a in amplitudes_folders_names]\n",
    "sqamplitudes_folders_names = [\"1to2/\", \"2to1/\", \"2to2/\", \"2to3/\", \"3to2/\"] \n",
    "sqamplitudes_folders = [sqampl_folders_prefix+a for a in sqamplitudes_folders_names]"
   ]
  },
  {
   "cell_type": "code",
   "execution_count": 4,
   "metadata": {},
   "outputs": [],
   "source": [
    "amplitudes = dict()\n",
    "sqamplitudes = dict()\n",
    "for amplitudes_folder, sqamplitudes_folder, name in zip(amplitudes_folders, sqamplitudes_folders, amplitudes_folders_names):\n",
    "\n",
    "    amplitudes_files = os.listdir(amplitudes_folder)\n",
    "    sqamplitudes_files = os.listdir(sqamplitudes_folder)\n",
    "    # ic(len(amplitudes_files))\n",
    "    # ic(len(sqamplitudes_files))\n",
    "    ampl, sqampl = read_amplitudes_and_squares(amplitudes_folder, sqamplitudes_folder)\n",
    "\n",
    "\n",
    "    ampls_prefix = []\n",
    "    for exp in ampl:\n",
    "        tree = get_tree(exp)\n",
    "        tree = fix_tree(tree)\n",
    "        final_expr = fix_subscripts(tree)\n",
    "        ampls_prefix.append(final_expr)\n",
    "\n",
    "    sqampls_prefix = []\n",
    "    for exp in sqampl:\n",
    "        tree = get_tree(exp)\n",
    "        tree = fix_tree(tree)\n",
    "        final_expr = fix_subscripts(tree)\n",
    "        sqampls_prefix.append(final_expr)\n",
    "    amplitudes[name] = ampls_prefix\n",
    "    sqamplitudes[name] = sqampls_prefix"
   ]
  },
  {
   "cell_type": "code",
   "execution_count": 5,
   "metadata": {},
   "outputs": [
    {
     "data": {
      "text/plain": [
       "array(['Prod', '-1/2', 'Prod', 'i', 'Prod', 'Pow', 'e', '2', 'Prod',\n",
       "       'Pow', 'Sum', 'Pow', 'm_mu', '2', 'Sum', 'Prod', '-1', 's_13',\n",
       "       'Prod', '1/2', 'reg_prop', '-1', 'Prod', 'gamma', 'alpha_0',\n",
       "       'alpha_1', 'alpha_2', 'Prod', 'gamma', 'alpha_0', 'alpha_4',\n",
       "       'alpha_3', 'Prod', 't^(*)', 'i_3', 'alpha_1', '(p_2)_v', 'Prod',\n",
       "       't', 'i_0', 'alpha_2', '(p_4)_v', 'Prod', 'mu^(*)', 'i_1',\n",
       "       'alpha_4', '(p_1)_v', 'mu', 'i_2', 'alpha_3', '(p_3)_v'],\n",
       "      dtype='<U8')"
      ]
     },
     "execution_count": 5,
     "metadata": {},
     "output_type": "execute_result"
    }
   ],
   "source": [
    "np.array(amplitudes[\"2to2/\"][100])"
   ]
  },
  {
   "cell_type": "code",
   "execution_count": 6,
   "metadata": {},
   "outputs": [
    {
     "data": {
      "text/plain": [
       "array(['Prod', '1/4', 'Prod', 'Pow', 'e', '4', 'Prod', 'Sum', 'Prod',\n",
       "       '16', 'Prod', 'Pow', 'm_t', '2', 'Pow', 'm_mu', '2', 'Sum', 'Prod',\n",
       "       '-8', 'Prod', 'Pow', 'm_t', '2', 's_13', 'Prod', '8', 'Prod',\n",
       "       's_14', 's_23', 'Prod', '-8', 'Prod', 'Pow', 'm_mu', '2', 's_24',\n",
       "       'Prod', '8', 'Prod', 's_12', 's_34', 'Pow', 'Sum', 'Pow', 'm_mu',\n",
       "       '2', 'Sum', 'Prod', '-1', 's_13', 'Prod', '1/2', 'reg_prop', '-2'],\n",
       "      dtype='<U8')"
      ]
     },
     "execution_count": 6,
     "metadata": {},
     "output_type": "execute_result"
    }
   ],
   "source": [
    "np.array(sqamplitudes[\"2to2/\"][100])"
   ]
  },
  {
   "cell_type": "code",
   "execution_count": 7,
   "metadata": {},
   "outputs": [
    {
     "name": "stdout",
     "output_type": "stream",
     "text": [
      "1to2/amplitudes mean length: 25.0 sqampl:  13.0\n",
      "2to1/amplitudes mean length: 25.0 sqampl:  13.0\n",
      "2to2/amplitudes mean length: 57.21052631578947 sqampl:  60.175438596491226\n",
      "2to3/amplitudes mean length: 178.97619047619048 sqampl:  763.1919642857143\n",
      "3to2/amplitudes mean length: 170.40178571428572 sqampl:  656.6785714285714\n"
     ]
    }
   ],
   "source": [
    "ampls_lengths = [[len(a) for a in amplitudes[key]] for key in amplitudes.keys()]\n",
    "sqampls_lengths = [[len(a) for a in sqamplitudes[key]] for key in amplitudes.keys()]\n",
    "\n",
    "for i, key in enumerate(amplitudes.keys()):\n",
    "    print(key+\"amplitudes mean length:\", np.mean(ampls_lengths[i]), \"sqampl: \", np.mean(sqampls_lengths[i]));"
   ]
  },
  {
   "cell_type": "code",
   "execution_count": 8,
   "metadata": {},
   "outputs": [
    {
     "data": {
      "image/png": "[encoded data removed]",
      "text/plain": [
       "<Figure size 432x288 with 1 Axes>"
      ]
     },
     "metadata": {
      "needs_background": "light"
     },
     "output_type": "display_data"
    }
   ],
   "source": [
    "plt.hist(ampls_lengths, label=amplitudes_folders_names, bins=10);\n",
    "plt.legend();"
   ]
  },
  {
   "cell_type": "code",
   "execution_count": 9,
   "metadata": {},
   "outputs": [
    {
     "data": {
      "image/png": "[encoded data removed]",
      "text/plain": [
       "<Figure size 432x288 with 1 Axes>"
      ]
     },
     "metadata": {
      "needs_background": "light"
     },
     "output_type": "display_data"
    }
   ],
   "source": [
    "plt.hist(sqampls_lengths, label=sqamplitudes_folders_names, bins=10);\n",
    "plt.legend();"
   ]
  }
 ],
 "metadata": {
  "kernelspec": {
   "display_name": "Python 3.10.5 64-bit",
   "language": "python",
   "name": "python3"
  },
  "language_info": {
   "codemirror_mode": {
    "name": "ipython",
    "version": 3
   },
   "file_extension": ".py",
   "mimetype": "text/x-python",
   "name": "python",
   "nbconvert_exporter": "python",
   "pygments_lexer": "ipython3",
   "version": "3.10.5"
  },
  "orig_nbformat": 4,
  "vscode": {
   "interpreter": {
    "hash": "e7370f93d1d0cde622a1f8e1c04877d8463912d04d973331ad4851f04de6915a"
   }
  }
 },
 "nbformat": 4,
 "nbformat_minor": 2
}
