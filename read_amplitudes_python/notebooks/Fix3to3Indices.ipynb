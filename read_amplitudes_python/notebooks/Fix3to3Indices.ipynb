{
 "cells": [
  {
   "cell_type": "markdown",
   "metadata": {},
   "source": [
    "The problem was simply that `alpha` was not in `indices_greek`"
   ]
  },
  {
   "cell_type": "code",
   "execution_count": 1,
   "metadata": {},
   "outputs": [],
   "source": [
    "import sys\n",
    "import os\n",
    "from icecream import ic \n",
    "import csv\n",
    "import numpy as np\n",
    "import more_itertools\n",
    "import matplotlib.pyplot as plt\n",
    "  \n",
    "# current = os.path.dirname(os.path.realpath(__file__))\n",
    "# parent = os.path.dirname(current)\n",
    "\n",
    "current = os.curdir\n",
    "# parent = os.path.dirname(current)\n",
    "# sys.path.append(parent)\n",
    "os.chdir(\"..\")\n",
    "\n",
    "from source.read_amplitudes import read_amplitudes, fix_operator_num_args, get_tree, fix_tree, fix_subscript, fix_subscripts, read_amplitudes_and_squares\n",
    "  "
   ]
  },
  {
   "cell_type": "code",
   "execution_count": 2,
   "metadata": {},
   "outputs": [
    {
     "data": {
      "text/plain": [
       "['source', 'test', '.pytest_cache', 'dev', '.swp', 'test.txt', 'notebooks']"
      ]
     },
     "execution_count": 2,
     "metadata": {},
     "output_type": "execute_result"
    }
   ],
   "source": [
    "os.listdir()"
   ]
  },
  {
   "cell_type": "code",
   "execution_count": 3,
   "metadata": {},
   "outputs": [],
   "source": [
    "ampl_folders_prefix = \"../QED_AllParticles_IO/out/ampl/\"\n",
    "sqampl_folders_prefix = \"../QED_AllParticles_IO/out/sq_ampl/\"\n",
    "amplitudes_folders_names = [\"1to2/\", \"2to1/\", \"2to2/\", \"2to3/\", \"3to3/\"] \n",
    "amplitudes_folders = [ampl_folders_prefix+a for a in amplitudes_folders_names]\n",
    "sqamplitudes_folders_names = [\"1to2/\", \"2to1/\", \"2to2/\", \"2to3/\", \"3to3/\"] \n",
    "sqamplitudes_folders = [sqampl_folders_prefix+a for a in sqamplitudes_folders_names]"
   ]
  },
  {
   "cell_type": "code",
   "execution_count": 4,
   "metadata": {},
   "outputs": [],
   "source": [
    "amplitudes = dict()\n",
    "sqamplitudes = dict()\n",
    "for amplitudes_folder, sqamplitudes_folder, name in zip(amplitudes_folders, sqamplitudes_folders, amplitudes_folders_names):\n",
    "\n",
    "    amplitudes_files = os.listdir(amplitudes_folder)\n",
    "    sqamplitudes_files = os.listdir(sqamplitudes_folder)\n",
    "    # ic(len(amplitudes_files))\n",
    "    # ic(len(sqamplitudes_files))\n",
    "    ampl, sqampl = read_amplitudes_and_squares(amplitudes_folder, sqamplitudes_folder)\n",
    "\n",
    "\n",
    "    # ampls_prefix = []\n",
    "    # for exp in ampl:\n",
    "    #     tree = get_tree(exp)\n",
    "    #     tree = fix_tree(tree)\n",
    "    #     final_expr = fix_subscripts(tree)\n",
    "    #     ampls_prefix.append(final_expr)\n",
    "\n",
    "    # sqampls_prefix = []\n",
    "    # for exp in sqampl:\n",
    "    #     tree = get_tree(exp)\n",
    "    #     tree = fix_tree(tree)\n",
    "    #     final_expr = fix_subscripts(tree)\n",
    "    #     sqampls_prefix.append(final_expr)\n",
    "    amplitudes[name] = ampl\n",
    "    sqamplitudes[name] = sqampl"
   ]
  },
  {
   "cell_type": "code",
   "execution_count": 5,
   "metadata": {},
   "outputs": [
    {
     "data": {
      "text/plain": [
       "array(['Prod', '(', '-1/2', 'i', 'Pow', '(', 'e', '2', ')', 'Pow', '(',\n",
       "       'Sum', '(', 'Pow', '(', 'm_e', '2', ')', 'Prod', '(', '-1', 's_13',\n",
       "       ')', 'Prod', '(', '1/2', 'reg_prop', ')', ')', '-1', ')',\n",
       "       'gamma_{+%\\\\sigma_126,%eps_36,%del_171}',\n",
       "       'gamma_{%\\\\sigma_126,%eta_132,%del_172}',\n",
       "       'e_{i_3,%del_171}(p_1)_u', 'e_{k_3,%del_172}(p_2)_u',\n",
       "       'e_{l_3,%eps_36}(p_3)_u^(*)', 'e_{i_5,%eta_132}(p_4)_u^(*)', ')'],\n",
       "      dtype='<U37')"
      ]
     },
     "execution_count": 5,
     "metadata": {},
     "output_type": "execute_result"
    }
   ],
   "source": [
    "np.array(amplitudes[\"2to2/\"][0])"
   ]
  },
  {
   "cell_type": "code",
   "execution_count": 6,
   "metadata": {},
   "outputs": [
    {
     "data": {
      "text/plain": [
       "array(['Prod', '(', '1/9', 'i', 'Pow', '(', 'e', '4', ')', 'Pow', '(',\n",
       "       'Sum', '(', 'Pow', '(', 'm_u', '2', ')', 'Prod', '(', '-1', 's_25',\n",
       "       ')', 'Prod', '(', '1/2', 'reg_prop', ')', ')', '-1', ')', 'Pow',\n",
       "       '(', 'Sum', '(', 'Pow', '(', 'm_u', '2', ')', 's_12', 'Prod', '(',\n",
       "       '-1', 's_15', ')', 'Prod', '(', '-1', 's_25', ')', 'Prod', '(',\n",
       "       '1/2', 'reg_prop', ')', ')', '-1', ')', 'Pow', '(', 'Sum', '(',\n",
       "       'Pow', '(', 'm_e', '2', ')', 'Pow', '(', 'm_u', '2', ')', 's_12',\n",
       "       'Prod', '(', '-1', 's_14', ')', 'Prod', '(', '-1', 's_15', ')',\n",
       "       'Prod', '(', '-1', 's_24', ')', 'Prod', '(', '-1', 's_25', ')',\n",
       "       's_45', 'Prod', '(', '1/2', 'reg_prop', ')', ')', '-1', ')', 'Sum',\n",
       "       '(', 'Prod', '(', 'p_1_%\\\\sigma_141',\n",
       "       'gamma_{+%\\\\sigma_141,%eta_186,%del_195}',\n",
       "       'gamma_{+%\\\\lambda_185,%eta_187,%del_196}',\n",
       "       'gamma_{%\\\\lambda_185,%eta_188,%eps_46}', 'c_{i_5,%eps_46}(p_3)_u',\n",
       "       'c_{i_7,%eta_188}(p_6)_u^(*)', 'e_{i_3,%del_196}(p_1)_u',\n",
       "       'e_{k_5,%eta_187}(p_4)_u^(*)', 'u_{k_3,%del_195}(p_2)_u',\n",
       "       'u_{l_5,%eta_186}(p_5)_u^(*)', ')', 'Prod', '(', '1/2',\n",
       "       'p_2_%\\\\lambda_188', 'gamma_{+%\\\\sigma_141,%eta_193,%del_199}',\n",
       "       'gamma_{%\\\\sigma_141,%eta_241,%del_200}',\n",
       "       'gamma_{+%\\\\lambda_185,%eta_194,%eta_240}',\n",
       "       'gamma_{%\\\\lambda_185,%eta_197,%eps_48}',\n",
       "       'gamma_{+%\\\\lambda_188,%eta_240,%eta_241}',\n",
       "       'c_{i_5,%eps_48}(p_3)_u', 'c_{i_7,%eta_197}(p_6)_u^(*)',\n",
       "       'e_{i_3,%del_200}(p_1)_u', 'e_{k_5,%eta_194}(p_4)_u^(*)',\n",
       "       'u_{k_3,%del_199}(p_2)_u', 'u_{l_5,%eta_193}(p_5)_u^(*)', ')',\n",
       "       'Prod', '(', '-1/2', 'p_5_%\\\\lambda_188',\n",
       "       'gamma_{+%\\\\sigma_141,%eta_198,%del_201}',\n",
       "       'gamma_{%\\\\sigma_141,%eta_243,%del_202}',\n",
       "       'gamma_{+%\\\\lambda_185,%eta_199,%eta_242}',\n",
       "       'gamma_{%\\\\lambda_185,%eta_202,%eps_49}',\n",
       "       'gamma_{+%\\\\lambda_188,%eta_242,%eta_243}',\n",
       "       'c_{i_5,%eps_49}(p_3)_u', 'c_{i_7,%eta_202}(p_6)_u^(*)',\n",
       "       'e_{i_3,%del_202}(p_1)_u', 'e_{k_5,%eta_199}(p_4)_u^(*)',\n",
       "       'u_{k_3,%del_201}(p_2)_u', 'u_{l_5,%eta_198}(p_5)_u^(*)', ')', ')',\n",
       "       ')'], dtype='<U39')"
      ]
     },
     "execution_count": 6,
     "metadata": {},
     "output_type": "execute_result"
    }
   ],
   "source": [
    "np.array(amplitudes[\"3to3/\"][0])"
   ]
  },
  {
   "cell_type": "code",
   "execution_count": 7,
   "metadata": {},
   "outputs": [],
   "source": [
    "ampls_prefix = []\n",
    "for exp in amplitudes[\"3to3/\"][74:75]:\n",
    "    tree = get_tree(exp)\n",
    "    tree = fix_tree(tree)\n",
    "    final_expr = fix_subscripts(tree)\n",
    "    ampls_prefix.append(final_expr)"
   ]
  },
  {
   "cell_type": "code",
   "execution_count": 8,
   "metadata": {},
   "outputs": [
    {
     "data": {
      "text/plain": [
       "array(['Prod', '1/108', 'Prod', 'i', 'Prod', 'Pow', 'e', '4', 'Prod',\n",
       "       'Pow', 'Sum', 'Pow', 'm_e', '2', 'Sum', 'Prod', '-1', 's_14',\n",
       "       'Prod', '1/2', 'reg_prop', '-1', 'Prod', 'Pow', 'Sum', 'Pow',\n",
       "       'm_e', '2', 'Sum', 's_12', 'Prod', '-1', 's_14', 'Prod', '-1',\n",
       "       's_24', 'Prod', '1/2', 'reg_prop', '-1', 'Prod', 'Pow', 'Sum',\n",
       "       'Pow', 'm_e', '2', 'Sum', 'Pow', 'm_s', '2', 's_12', 'Prod', '-1',\n",
       "       's_14', 'Prod', '-1', 's_15', 'Prod', '-1', 's_24', 'Prod', '-1',\n",
       "       's_25', 's_45', 'Prod', '1/2', 'reg_prop', '-1', 'Sum', 'Prod',\n",
       "       'p_1', 'alpha_20', 'Prod', 'gamma', 'alpha_20', 'alpha_22',\n",
       "       'alpha_13', 'Prod', 'gamma', 'alpha_0', 'alpha_16', 'alpha_22',\n",
       "       'Prod', 'gamma', 'alpha_0', 'alpha_21', 'alpha_9', 'Prod', 'gamma',\n",
       "       'alpha_24', 'alpha_11', 'alpha_12', 'Prod', 'gamma', 'alpha_24',\n",
       "       'alpha_13', 'alpha_14', 'Prod', 'ee', 'i_2', 'alpha_9', '(p_1)_u',\n",
       "       'Prod', 'ee^(*)', 'i_0', 'alpha_21', '(p_4)_u', 'Prod', 's^(*)',\n",
       "       'i_1', 'alpha_16', '(p_2)_v', 'Prod', 's', 'i_5', 'alpha_14',\n",
       "       '(p_5)_v', 'Prod', 'tt^(*)', 'i_4', 'alpha_11', '(p_3)_v', 'tt',\n",
       "       'i_3', 'alpha_12', '(p_6)_v', 'Sum', 'Prod', '2', 'Prod', 'p_2',\n",
       "       'alpha_0', 'Prod', 'gamma', 'alpha_0', 'alpha_23', 'alpha_17',\n",
       "       'Prod', 'gamma', 'alpha_24', 'alpha_7', 'alpha_8', 'Prod', 'gamma',\n",
       "       'alpha_24', 'alpha_3', 'alpha_4', 'Prod', 'ee', 'i_2', 'alpha_17',\n",
       "       '(p_1)_u', 'Prod', 'ee^(*)', 'i_0', 'alpha_23', '(p_4)_u', 'Prod',\n",
       "       's^(*)', 'i_1', 'alpha_3', '(p_2)_v', 'Prod', 's', 'i_5',\n",
       "       'alpha_4', '(p_5)_v', 'Prod', 'tt^(*)', 'i_4', 'alpha_7',\n",
       "       '(p_3)_v', 'tt', 'i_3', 'alpha_8', '(p_6)_v', 'Prod', '-1', 'Prod',\n",
       "       'p_4', 'alpha_20', 'Prod', 'gamma', 'alpha_20', 'alpha_2',\n",
       "       'alpha_15', 'Prod', 'gamma', 'alpha_0', 'alpha_1', 'alpha_2',\n",
       "       'Prod', 'gamma', 'alpha_0', 'alpha_10', 'alpha_18', 'Prod',\n",
       "       'gamma', 'alpha_24', 'alpha_5', 'alpha_19', 'Prod', 'gamma',\n",
       "       'alpha_24', 'alpha_15', 'alpha_6', 'Prod', 'ee', 'i_2', 'alpha_18',\n",
       "       '(p_1)_u', 'Prod', 'ee^(*)', 'i_0', 'alpha_10', '(p_4)_u', 'Prod',\n",
       "       's^(*)', 'i_1', 'alpha_1', '(p_2)_v', 'Prod', 's', 'i_5',\n",
       "       'alpha_6', '(p_5)_v', 'Prod', 'tt^(*)', 'i_4', 'alpha_5',\n",
       "       '(p_3)_v', 'tt', 'i_3', 'alpha_19', '(p_6)_v'], dtype='<U8')"
      ]
     },
     "execution_count": 8,
     "metadata": {},
     "output_type": "execute_result"
    }
   ],
   "source": [
    "np.array(ampls_prefix[0])"
   ]
  },
  {
   "cell_type": "code",
   "execution_count": 9,
   "metadata": {},
   "outputs": [],
   "source": [
    "exp = amplitudes[\"3to3/\"][74]"
   ]
  },
  {
   "cell_type": "code",
   "execution_count": 10,
   "metadata": {},
   "outputs": [
    {
     "name": "stderr",
     "output_type": "stream",
     "text": [
      "/tmp/ipykernel_39567/2351886148.py:1: VisibleDeprecationWarning: Creating an ndarray from ragged nested sequences (which is a list-or-tuple of lists-or-tuples-or ndarrays with different lengths or shapes) is deprecated. If you meant to do this, you must specify 'dtype=object' when creating the ndarray.\n",
      "  np.array(exp)\n"
     ]
    },
    {
     "data": {
      "text/plain": [
       "array([['Prod', '1/108', 'i', list(['Pow', 'e', '4']),\n",
       "        list(['Pow', ['Sum', ['Pow', 'm_e', '2'], ['Prod', '-1', 's_14'], ['Prod', '1/2', 'reg_prop']], '-1']),\n",
       "        list(['Pow', ['Sum', ['Pow', 'm_e', '2'], 's_12', ['Prod', '-1', 's_14'], ['Prod', '-1', 's_24'], ['Prod', '1/2', 'reg_prop']], '-1']),\n",
       "        list(['Pow', ['Sum', ['Pow', 'm_e', '2'], ['Pow', 'm_s', '2'], 's_12', ['Prod', '-1', 's_14'], ['Prod', '-1', 's_15'], ['Prod', '-1', 's_24'], ['Prod', '-1', 's_25'], 's_45', ['Prod', '1/2', 'reg_prop']], '-1']),\n",
       "        list(['Sum', ['Prod', 'p_1_%\\\\mu_209', 'gamma_{+%\\\\mu_209,%eta_422,%eta_423}', 'gamma_{+%\\\\sigma_265,%eta_372,%eta_422}', 'gamma_{%\\\\sigma_265,%eta_375,%del_381}', 'gamma_{%\\\\sigma_268,%eps_105,%del_382}', 'gamma_{+%\\\\sigma_268,%eta_423,%alpha_266}', 'e_{i_3,%del_381}(p_1)_u', 'e_{k_5,%eta_375}(p_4)_u^(*)', 's_{k_3,%eta_372}(p_2)_v^(*)', 's_{l_5,%alpha_266}(p_5)_v', 'tt_{i_5,%eps_105}(p_3)_v^(*)', 'tt_{i_7,%del_382}(p_6)_v'], ['Prod', '2', 'p_2_+%\\\\sigma_265', 'gamma_{%\\\\sigma_265,%eta_381,%del_387}', 'gamma_{%\\\\sigma_268,%eps_108,%del_388}', 'gamma_{+%\\\\sigma_268,%eta_382,%alpha_271}', 'e_{i_3,%del_387}(p_1)_u', 'e_{k_5,%eta_381}(p_4)_u^(*)', 's_{k_3,%eta_382}(p_2)_v^(*)', 's_{l_5,%alpha_271}(p_5)_v', 'tt_{i_5,%eps_108}(p_3)_v^(*)', 'tt_{i_7,%del_388}(p_6)_v'], ['Prod', '-1', 'p_4_%\\\\mu_209', 'gamma_{+%\\\\mu_209,%eta_424,%eta_425}', 'gamma_{+%\\\\sigma_265,%eta_386,%eta_424}', 'gamma_{%\\\\sigma_265,%eta_389,%del_391}', 'gamma_{%\\\\sigma_268,%eps_110,%del_392}', 'gamma_{+%\\\\sigma_268,%eta_425,%alpha_273}', 'e_{i_3,%del_391}(p_1)_u', 'e_{k_5,%eta_389}(p_4)_u^(*)', 's_{k_3,%eta_386}(p_2)_v^(*)', 's_{l_5,%alpha_273}(p_5)_v', 'tt_{i_5,%eps_110}(p_3)_v^(*)', 'tt_{i_7,%del_392}(p_6)_v']])]],\n",
       "      dtype=object)"
      ]
     },
     "execution_count": 10,
     "metadata": {},
     "output_type": "execute_result"
    }
   ],
   "source": [
    "np.array(exp)"
   ]
  },
  {
   "cell_type": "code",
   "execution_count": 11,
   "metadata": {},
   "outputs": [
    {
     "data": {
      "text/plain": [
       "'s_{l_5,%alpha_266}(p_5)_v'"
      ]
     },
     "execution_count": 11,
     "metadata": {},
     "output_type": "execute_result"
    }
   ],
   "source": [
    "'s_{l_5,%alpha_266}(p_5)_v'"
   ]
  },
  {
   "cell_type": "code",
   "execution_count": 12,
   "metadata": {},
   "outputs": [
    {
     "data": {
      "text/plain": [
       "array(['Prod', '(', '1/54', 'i', 'Pow', '(', 'e', '4', ')', 'Pow', '(',\n",
       "       'Sum', '(', 'Pow', '(', 'm_e', '2', ')', 'Prod', '(', '-1', 's_14',\n",
       "       ')', 'Prod', '(', '1/2', 'reg_prop', ')', ')', '-1', ')', 'Pow',\n",
       "       '(', 'Sum', '(', 'Pow', '(', 'm_d', '2', ')', 'Prod', '(', '-1',\n",
       "       's_25', ')', 'Prod', '(', '1/2', 'reg_prop', ')', ')', '-1', ')',\n",
       "       'Pow', '(', 'Sum', '(', 'Pow', '(', 'm_e', '2', ')', 's_13',\n",
       "       'Prod', '(', '-1', 's_14', ')', 'Prod', '(', '-1', 's_34', ')',\n",
       "       'Prod', '(', '1/2', 'reg_prop', ')', ')', '-1', ')', 'Sum', '(',\n",
       "       'Prod', '(', 'p_1_%\\\\mu_239',\n",
       "       'gamma_{+%\\\\mu_239,%gam_505,%gam_506}',\n",
       "       'gamma_{%\\\\sigma_360,%gam_472,%gam_505}',\n",
       "       'gamma_{+%\\\\sigma_360,%del_753,%del_754}',\n",
       "       'gamma_{%\\\\sigma_363,%gam_506,%eps_174}',\n",
       "       'gamma_{+%\\\\sigma_363,%eta_328,%del_755}',\n",
       "       'd_{k_3,%del_753}(p_2)_v^(*)', 'd_{l_5,%del_754}(p_5)_v',\n",
       "       'e_{i_3,%del_755}(p_1)_u', 'e_{k_5,%eta_328}(p_4)_u^(*)',\n",
       "       'tt_{i_5,%eps_174}(p_3)_u', 'tt_{i_7,%gam_472}(p_6)_u^(*)', ')',\n",
       "       'Prod', '(', '2', 'p_3_%\\\\sigma_363',\n",
       "       'gamma_{%\\\\sigma_360,%gam_478,%eps_179}',\n",
       "       'gamma_{+%\\\\sigma_360,%del_762,%del_763}',\n",
       "       'gamma_{+%\\\\sigma_363,%eta_333,%del_764}',\n",
       "       'd_{k_3,%del_762}(p_2)_v^(*)', 'd_{l_5,%del_763}(p_5)_v',\n",
       "       'e_{i_3,%del_764}(p_1)_u', 'e_{k_5,%eta_333}(p_4)_u^(*)',\n",
       "       'tt_{i_5,%eps_179}(p_3)_u', 'tt_{i_7,%gam_478}(p_6)_u^(*)', ')',\n",
       "       'Prod', '(', '-1', 'p_4_%\\\\mu_239',\n",
       "       'gamma_{+%\\\\mu_239,%gam_507,%gam_508}',\n",
       "       'gamma_{%\\\\sigma_360,%gam_481,%gam_507}',\n",
       "       'gamma_{+%\\\\sigma_360,%del_768,%del_769}',\n",
       "       'gamma_{%\\\\sigma_363,%gam_508,%eps_181}',\n",
       "       'gamma_{+%\\\\sigma_363,%eta_335,%del_770}',\n",
       "       'd_{k_3,%del_768}(p_2)_v^(*)', 'd_{l_5,%del_769}(p_5)_v',\n",
       "       'e_{i_3,%del_770}(p_1)_u', 'e_{k_5,%eta_335}(p_4)_u^(*)',\n",
       "       'tt_{i_5,%eps_181}(p_3)_u', 'tt_{i_7,%gam_481}(p_6)_u^(*)', ')',\n",
       "       ')', ')'], dtype='<U38')"
      ]
     },
     "execution_count": 12,
     "metadata": {},
     "output_type": "execute_result"
    },
    {
     "ename": "",
     "evalue": "",
     "output_type": "error",
     "traceback": [
      "\u001b[1;31mThe Kernel crashed while executing code in the the current cell or a previous cell. Please review the code in the cell(s) to identify a possible cause of the failure. Click <a href='https://aka.ms/vscodeJupyterKernelCrash'>here</a> for more info. View Jupyter <a href='command:jupyter.viewOutput'>log</a> for further details."
     ]
    }
   ],
   "source": [
    "np.array(amplitudes[\"3to3/\"][10])"
   ]
  },
  {
   "cell_type": "code",
   "execution_count": null,
   "metadata": {},
   "outputs": [],
   "source": []
  }
 ],
 "metadata": {
  "kernelspec": {
   "display_name": "Python 3.10.5 64-bit",
   "language": "python",
   "name": "python3"
  },
  "language_info": {
   "codemirror_mode": {
    "name": "ipython",
    "version": 3
   },
   "file_extension": ".py",
   "mimetype": "text/x-python",
   "name": "python",
   "nbconvert_exporter": "python",
   "pygments_lexer": "ipython3",
   "version": "3.10.5"
  },
  "orig_nbformat": 4,
  "vscode": {
   "interpreter": {
    "hash": "e7370f93d1d0cde622a1f8e1c04877d8463912d04d973331ad4851f04de6915a"
   }
  }
 },
 "nbformat": 4,
 "nbformat_minor": 2
}
